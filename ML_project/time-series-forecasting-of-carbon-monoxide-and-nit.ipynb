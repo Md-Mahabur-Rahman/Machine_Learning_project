{
 "cells": [
  {
   "cell_type": "markdown",
   "id": "3e181d2b",
   "metadata": {},
   "source": [
    "<div style=\"background-color: #f9f9fc; color: #333366; border-radius: 12px; margin: 20px auto; padding: 20px; border: 2px solid #ff4c4c; max-width: 1000px; font-family: Arial, sans-serif; line-height: 1.6;\">\n",
    "  <h2 style=\"text-align: center; color: #333366;\">Time-Series Forecasting of Carbon Monoxide and Nitrogen Dioxide Levels</h2>"
   ]
  },
  {
   "cell_type": "code",
   "execution_count": null,
   "id": "dff20868",
   "metadata": {},
   "outputs": [],
   "source": [
    "!pip install numpy==1.23.5\n",
    "print(\"M\")"
   ]
  },
  {
   "cell_type": "markdown",
   "id": "9961bc79",
   "metadata": {},
   "source": [
    "Build predictive models to forecast daily or hourly concentrations of **CO(GT)** and **NO₂(GT)** based on historical data.\n"
   ]
  },
  {
   "cell_type": "code",
   "execution_count": null,
   "id": "cc2c4f6f",
   "metadata": {
    "execution": {
     "iopub.execute_input": "2025-01-10T08:57:18.087446Z",
     "iopub.status.busy": "2025-01-10T08:57:18.086968Z",
     "iopub.status.idle": "2025-01-10T08:57:18.092890Z",
     "shell.execute_reply": "2025-01-10T08:57:18.092199Z",
     "shell.execute_reply.started": "2025-01-10T08:57:18.087405Z"
    }
   },
   "outputs": [],
   "source": [
    "import numpy as np\n",
    "import pandas as pd\n",
    "import matplotlib.pyplot as plt\n",
    "import seaborn as sns\n",
    "from scipy.stats import zscore\n",
    "\n",
    "# ML libraries\n",
    "from sklearn.preprocessing import MinMaxScaler\n",
    "from sklearn.ensemble import RandomForestRegressor\n",
    "from sklearn.svm import SVR\n",
    "from sklearn.neighbors import KNeighborsRegressor\n",
    "from xgboost import XGBRegressor\n",
    "from sklearn.metrics import mean_absolute_error, mean_squared_error, r2_score\n",
    "from sklearn.model_selection import train_test_split\n",
    "\n",
    "# DL libraries\n",
    "from tensorflow.keras.models import Sequential\n",
    "from tensorflow.keras.layers import Dense, LSTM, GRU\n",
    "\n",
    "# Time Series Analysis libraries\n",
    "from statsmodels.tsa.stattools import adfuller  # Augmented Dickey-Fuller (ADF) Test\n",
    "from statsmodels.tsa.arima.model import ARIMA\n",
    "from prophet import Prophet\n",
    "\n",
    "# Ignore warnings\n",
    "import warnings\n",
    "warnings.simplefilter('ignore')\n",
    "warnings.filterwarnings('ignore')"
   ]
  },
  {
   "cell_type": "code",
   "execution_count": null,
   "id": "10a0a4c1",
   "metadata": {
    "execution": {
     "iopub.execute_input": "2025-01-10T08:57:18.094310Z",
     "iopub.status.busy": "2025-01-10T08:57:18.094065Z",
     "iopub.status.idle": "2025-01-10T08:57:18.340665Z",
     "shell.execute_reply": "2025-01-10T08:57:18.339971Z",
     "shell.execute_reply.started": "2025-01-10T08:57:18.094290Z"
    }
   },
   "outputs": [],
   "source": [
    "df = pd.read_csv('Time-Series_data.txt', delimiter=',')\n",
    "df.head()"
   ]
  },
  {
   "cell_type": "code",
   "execution_count": null,
   "id": "af3a04f5",
   "metadata": {
    "execution": {
     "iopub.execute_input": "2025-01-10T08:57:18.342390Z",
     "iopub.status.busy": "2025-01-10T08:57:18.342158Z",
     "iopub.status.idle": "2025-01-10T08:57:18.347187Z",
     "shell.execute_reply": "2025-01-10T08:57:18.346367Z",
     "shell.execute_reply.started": "2025-01-10T08:57:18.342370Z"
    }
   },
   "outputs": [],
   "source": [
    "df.columns"
   ]
  },
  {
   "cell_type": "code",
   "execution_count": null,
   "id": "cef2f127-6e25-46eb-85c7-6c9485307322",
   "metadata": {
    "execution": {
     "iopub.execute_input": "2025-01-10T08:57:18.348930Z",
     "iopub.status.busy": "2025-01-10T08:57:18.348662Z",
     "iopub.status.idle": "2025-01-10T08:57:18.369914Z",
     "shell.execute_reply": "2025-01-10T08:57:18.369174Z",
     "shell.execute_reply.started": "2025-01-10T08:57:18.348896Z"
    }
   },
   "outputs": [],
   "source": [
    "df.info()"
   ]
  },
  {
   "cell_type": "code",
   "execution_count": null,
   "id": "77694402-5643-4303-bd0b-37e027f65b00",
   "metadata": {
    "execution": {
     "iopub.execute_input": "2025-01-10T08:57:18.370964Z",
     "iopub.status.busy": "2025-01-10T08:57:18.370674Z",
     "iopub.status.idle": "2025-01-10T08:57:18.412320Z",
     "shell.execute_reply": "2025-01-10T08:57:18.411665Z",
     "shell.execute_reply.started": "2025-01-10T08:57:18.370928Z"
    }
   },
   "outputs": [],
   "source": [
    "df.describe()"
   ]
  },
  {
   "cell_type": "code",
   "execution_count": null,
   "id": "4db136d3-d1ce-4f70-8ec9-0abd5d23befc",
   "metadata": {
    "execution": {
     "iopub.execute_input": "2025-01-10T08:57:18.413233Z",
     "iopub.status.busy": "2025-01-10T08:57:18.412969Z",
     "iopub.status.idle": "2025-01-10T08:57:18.419391Z",
     "shell.execute_reply": "2025-01-10T08:57:18.418544Z",
     "shell.execute_reply.started": "2025-01-10T08:57:18.413213Z"
    }
   },
   "outputs": [],
   "source": [
    "print(df.isnull().sum())"
   ]
  },
  {
   "cell_type": "code",
   "execution_count": null,
   "id": "94d0e4fe-cd1c-4436-8574-f92a810160c3",
   "metadata": {
    "execution": {
     "iopub.execute_input": "2025-01-10T08:57:18.420437Z",
     "iopub.status.busy": "2025-01-10T08:57:18.420198Z",
     "iopub.status.idle": "2025-01-10T08:57:18.435178Z",
     "shell.execute_reply": "2025-01-10T08:57:18.434536Z",
     "shell.execute_reply.started": "2025-01-10T08:57:18.420415Z"
    }
   },
   "outputs": [],
   "source": [
    "df.shape"
   ]
  },
  {
   "cell_type": "code",
   "execution_count": null,
   "id": "707951bd-190e-4e65-a456-ae1707da946f",
   "metadata": {
    "execution": {
     "iopub.execute_input": "2025-01-10T08:57:18.436311Z",
     "iopub.status.busy": "2025-01-10T08:57:18.436021Z",
     "iopub.status.idle": "2025-01-10T08:57:18.456883Z",
     "shell.execute_reply": "2025-01-10T08:57:18.456172Z",
     "shell.execute_reply.started": "2025-01-10T08:57:18.436272Z"
    }
   },
   "outputs": [],
   "source": [
    "df.nunique()"
   ]
  },
  {
   "cell_type": "code",
   "execution_count": null,
   "id": "7a3f1393-567d-44c8-97fa-cdb7ba98c10f",
   "metadata": {
    "execution": {
     "iopub.execute_input": "2025-01-10T08:57:18.459772Z",
     "iopub.status.busy": "2025-01-10T08:57:18.459539Z",
     "iopub.status.idle": "2025-01-10T08:57:18.471426Z",
     "shell.execute_reply": "2025-01-10T08:57:18.470567Z",
     "shell.execute_reply.started": "2025-01-10T08:57:18.459752Z"
    }
   },
   "outputs": [],
   "source": [
    "df.duplicated().sum()"
   ]
  },
  {
   "cell_type": "code",
   "execution_count": null,
   "id": "330c7c67-e903-448a-9b6c-bacef325c4ca",
   "metadata": {
    "execution": {
     "iopub.execute_input": "2025-01-10T08:57:18.473373Z",
     "iopub.status.busy": "2025-01-10T08:57:18.473092Z",
     "iopub.status.idle": "2025-01-10T08:57:18.775336Z",
     "shell.execute_reply": "2025-01-10T08:57:18.774429Z",
     "shell.execute_reply.started": "2025-01-10T08:57:18.473351Z"
    }
   },
   "outputs": [],
   "source": [
    "# Step 1: Ensure numeric columns\n",
    "numeric_columns = df.select_dtypes(include=['number'])  # Select only numeric columns\n",
    "\n",
    "# Step 2: Check for negative values in each column\n",
    "negative_counts = (numeric_columns < 0).sum()\n",
    "\n",
    "# Step 3: Filter only columns with negative values\n",
    "negative_counts = negative_counts[negative_counts > 0]\n",
    "\n",
    "# Step 4: Display counts of negative values\n",
    "print(\"Count of negative values in each column:\")\n",
    "print(negative_counts)\n",
    "\n",
    "# Step 5: Visualization\n",
    "import matplotlib.pyplot as plt\n",
    "\n",
    "if not negative_counts.empty:\n",
    "    plt.figure(figsize=(12, 6))\n",
    "    negative_counts.plot(kind='bar', color='orange')\n",
    "    plt.title('Count of Negative Values in Each Column')\n",
    "    plt.xlabel('Columns')\n",
    "    plt.ylabel('Count of Negative Values')\n",
    "    plt.xticks(rotation=45)\n",
    "    plt.show()\n",
    "else:\n",
    "    print(\"No negative values found in numeric columns.\")"
   ]
  },
  {
   "cell_type": "code",
   "execution_count": null,
   "id": "ea722b8b-dedb-4ddb-9626-3b9ff1f36cb5",
   "metadata": {
    "execution": {
     "iopub.execute_input": "2025-01-10T08:57:18.776407Z",
     "iopub.status.busy": "2025-01-10T08:57:18.776157Z",
     "iopub.status.idle": "2025-01-10T08:57:18.787065Z",
     "shell.execute_reply": "2025-01-10T08:57:18.786336Z",
     "shell.execute_reply.started": "2025-01-10T08:57:18.776372Z"
    }
   },
   "outputs": [],
   "source": [
    "#Converts the Time Date value to a string, last 4 characters of the string, representing the year.\n",
    "df['Date'] = pd.to_datetime(df['Date'])\n",
    "df['Year'] = df['Date'].dt.year\n",
    "df['Month'] = df['Date'].dt.month\n",
    "df['Day'] = df['Date'].dt.day"
   ]
  },
  {
   "cell_type": "code",
   "execution_count": null,
   "id": "540c7a9a-4d51-49df-b758-befc55317633",
   "metadata": {
    "execution": {
     "iopub.execute_input": "2025-01-10T08:57:18.788187Z",
     "iopub.status.busy": "2025-01-10T08:57:18.787917Z",
     "iopub.status.idle": "2025-01-10T08:57:18.806028Z",
     "shell.execute_reply": "2025-01-10T08:57:18.805223Z",
     "shell.execute_reply.started": "2025-01-10T08:57:18.788166Z"
    }
   },
   "outputs": [],
   "source": [
    "df.head()"
   ]
  },
  {
   "cell_type": "code",
   "execution_count": null,
   "id": "c801acb3-e7d8-489e-9e5f-d6aa860a4e1b",
   "metadata": {
    "execution": {
     "iopub.execute_input": "2025-01-10T08:57:18.806945Z",
     "iopub.status.busy": "2025-01-10T08:57:18.806750Z",
     "iopub.status.idle": "2025-01-10T08:57:19.360295Z",
     "shell.execute_reply": "2025-01-10T08:57:19.359477Z",
     "shell.execute_reply.started": "2025-01-10T08:57:18.806922Z"
    }
   },
   "outputs": [],
   "source": [
    "# Select only numeric columns\n",
    "numeric_df = df.select_dtypes(include=['float64', 'int64'])\n",
    "\n",
    "# Calculate the correlation matrix\n",
    "correlation_matrix = numeric_df.corr()\n",
    "\n",
    "# Plot the heatmap\n",
    "plt.figure(figsize=(10, 8))\n",
    "sns.heatmap(correlation_matrix, annot=True, fmt=\".2f\", cmap=\"coolwarm\", cbar=True)\n",
    "plt.title(\"Correlation Heatmap\")\n",
    "plt.show()"
   ]
  },
  {
   "cell_type": "markdown",
   "id": "ab76a31a-a735-4a7b-a5e6-20c9c753d6b4",
   "metadata": {},
   "source": [
    "<div style=\"background-color: #f9f9fc; color: #333366; border-radius: 12px; margin: 20px auto; padding: 20px; border: 2px solid #ff4c4c; max-width: 1000px; font-family: Arial, sans-serif; line-height: 1.6;\">\n",
    "  <h2 style=\"text-align: center; color: #333366;\">Project Workflow</h2>\n",
    "\n",
    "---\n",
    "### **Deliverables**:\n",
    "1. **Forecasting Models**:\n",
    "   - Trained models for `CO(GT)` and `NO₂(GT)`.\n",
    "2. **Forecast Visualization**:\n",
    "   - Plots showing historical trends and future predictions.\n",
    "3. **Evaluation Report**:\n",
    "   - Metrics and comparison of different forecasting models.\n",
    "4. **Insights and Recommendations**:\n",
    "   - Suggestions for mitigating high levels of these gases based on predictions.\n",
    "\n",
    "\n",
    "### **1. Data Preprocessing**\n",
    "---\n",
    "- **Date-Time Parsing**:\n",
    "  - Combine the `Date` and `Time` columns into a single `datetime` column.\n",
    "  - Set the `datetime` column as the index of the dataset.\n",
    "- **Resampling**:\n",
    "  - Aggregate the data into meaningful time intervals (e.g., hourly or daily averages).\n",
    "- **Handle Missing Values**:\n",
    "  - Use interpolation, mean, or advanced imputation techniques to fill missing data for `CO(GT)` and `NO₂(GT)`.\n",
    "- **Outlier Detection**:\n",
    "  - Remove or cap extreme values in `CO(GT)` and `NO₂(GT)` using statistical thresholds."
   ]
  },
  {
   "cell_type": "code",
   "execution_count": null,
   "id": "cc03f46e",
   "metadata": {
    "execution": {
     "iopub.execute_input": "2025-01-10T08:57:19.361386Z",
     "iopub.status.busy": "2025-01-10T08:57:19.361158Z",
     "iopub.status.idle": "2025-01-10T08:57:19.380148Z",
     "shell.execute_reply": "2025-01-10T08:57:19.379325Z",
     "shell.execute_reply.started": "2025-01-10T08:57:19.361367Z"
    }
   },
   "outputs": [],
   "source": [
    "# Date-Time Parsing\n",
    "df['datetime'] = pd.to_datetime(df['Date'].astype(str) + ' ' + df['Time'].astype(str))\n",
    "df.drop(columns=['Date', 'Time'], inplace=True)\n",
    "df.set_index('datetime', inplace=True)"
   ]
  },
  {
   "cell_type": "code",
   "execution_count": null,
   "id": "0dda33ad-4f83-4156-9f76-d5df7c2070ba",
   "metadata": {
    "execution": {
     "iopub.execute_input": "2025-01-10T08:57:19.381518Z",
     "iopub.status.busy": "2025-01-10T08:57:19.381055Z",
     "iopub.status.idle": "2025-01-10T08:57:19.393706Z",
     "shell.execute_reply": "2025-01-10T08:57:19.393055Z",
     "shell.execute_reply.started": "2025-01-10T08:57:19.381476Z"
    }
   },
   "outputs": [],
   "source": [
    "df.head()"
   ]
  },
  {
   "cell_type": "code",
   "execution_count": null,
   "id": "5a2a2b36-355c-4ec5-9b8a-f840361a6201",
   "metadata": {
    "execution": {
     "iopub.execute_input": "2025-01-10T08:57:19.394737Z",
     "iopub.status.busy": "2025-01-10T08:57:19.394471Z",
     "iopub.status.idle": "2025-01-10T08:57:19.418316Z",
     "shell.execute_reply": "2025-01-10T08:57:19.417649Z",
     "shell.execute_reply.started": "2025-01-10T08:57:19.394716Z"
    }
   },
   "outputs": [],
   "source": [
    "# Resample the data daily basis a. \n",
    "daily_data = df.resample('D').mean()\n",
    "print(daily_data.head())"
   ]
  },
  {
   "cell_type": "code",
   "execution_count": null,
   "id": "f962f52a-42e4-4fce-bccf-a2ab44a8090f",
   "metadata": {
    "execution": {
     "iopub.execute_input": "2025-01-10T08:57:19.419184Z",
     "iopub.status.busy": "2025-01-10T08:57:19.418952Z",
     "iopub.status.idle": "2025-01-10T08:57:19.422301Z",
     "shell.execute_reply": "2025-01-10T08:57:19.421548Z",
     "shell.execute_reply.started": "2025-01-10T08:57:19.419164Z"
    }
   },
   "outputs": [],
   "source": [
    "# hourly_data = df.resample('h').mean()\n",
    "# print(hourly_data.head())"
   ]
  },
  {
   "cell_type": "markdown",
   "id": "c02639d7-7fa1-47dc-b690-821a4a4a7c58",
   "metadata": {},
   "source": [
    "### outliers "
   ]
  },
  {
   "cell_type": "code",
   "execution_count": null,
   "id": "deffd2cd-b5c6-473d-82ef-b3fc1c666308",
   "metadata": {
    "execution": {
     "iopub.execute_input": "2025-01-10T08:57:19.423435Z",
     "iopub.status.busy": "2025-01-10T08:57:19.423173Z",
     "iopub.status.idle": "2025-01-10T08:57:19.786511Z",
     "shell.execute_reply": "2025-01-10T08:57:19.785648Z",
     "shell.execute_reply.started": "2025-01-10T08:57:19.423407Z"
    }
   },
   "outputs": [],
   "source": [
    "import matplotlib.pyplot as plt\n",
    "\n",
    "# CO(GT) Boxplots\n",
    "plt.figure(figsize=(10, 5))\n",
    "plt.subplot(1, 2, 1)\n",
    "df['CO(GT)'].plot(kind='box', title='Boxplot of CO(GT)')\n",
    "plt.ylabel('CO(GT)')\n",
    "\n",
    "# NO2(GT) Boxplots\n",
    "plt.subplot(1, 2, 2)\n",
    "df['NO2(GT)'].plot(kind='box', title='Boxplot of NO2(GT)')\n",
    "plt.ylabel('NO2(GT)')\n",
    "\n",
    "plt.tight_layout()\n",
    "plt.show()"
   ]
  },
  {
   "cell_type": "code",
   "execution_count": 1,
   "id": "d12e80a7-3a4f-44ae-85ed-817c543bdc95",
   "metadata": {
    "execution": {
     "iopub.execute_input": "2025-01-10T08:57:19.787512Z",
     "iopub.status.busy": "2025-01-10T08:57:19.787302Z",
     "iopub.status.idle": "2025-01-10T08:57:19.798674Z",
     "shell.execute_reply": "2025-01-10T08:57:19.797961Z",
     "shell.execute_reply.started": "2025-01-10T08:57:19.787493Z"
    }
   },
   "outputs": [
    {
     "ename": "NameError",
     "evalue": "name 'df' is not defined",
     "output_type": "error",
     "traceback": [
      "\u001b[0;31m---------------------------------------------------------------------------\u001b[0m",
      "\u001b[0;31mNameError\u001b[0m                                 Traceback (most recent call last)",
      "Cell \u001b[0;32mIn[1], line 12\u001b[0m\n\u001b[1;32m      9\u001b[0m     \u001b[38;5;28;01mreturn\u001b[39;00m df\n\u001b[1;32m     11\u001b[0m \u001b[38;5;66;03m# Cap outliers for CO(GT) and NO2(GT)\u001b[39;00m\n\u001b[0;32m---> 12\u001b[0m df \u001b[38;5;241m=\u001b[39m cap_outliers_iqr(\u001b[43mdf\u001b[49m, \u001b[38;5;124m'\u001b[39m\u001b[38;5;124mCO(GT)\u001b[39m\u001b[38;5;124m'\u001b[39m)\n\u001b[1;32m     13\u001b[0m df \u001b[38;5;241m=\u001b[39m cap_outliers_iqr(df, \u001b[38;5;124m'\u001b[39m\u001b[38;5;124mNO2(GT)\u001b[39m\u001b[38;5;124m'\u001b[39m)\n",
      "\u001b[0;31mNameError\u001b[0m: name 'df' is not defined"
     ]
    }
   ],
   "source": [
    "# Function to cap outliers based on IQR\n",
    "def cap_outliers_iqr(df, column):\n",
    "    Q1 = df[column].quantile(0.25)\n",
    "    Q3 = df[column].quantile(0.75)\n",
    "    IQR = Q3 - Q1\n",
    "    lower_bound = Q1 - 1.5 * IQR\n",
    "    upper_bound = Q3 + 1.5 * IQR\n",
    "    df[column] = df[column].clip(lower=lower_bound, upper=upper_bound)\n",
    "    return df\n",
    "\n",
    "# Cap outliers for CO(GT) and NO2(GT)\n",
    "df = cap_outliers_iqr(df, 'CO(GT)')\n",
    "df = cap_outliers_iqr(df, 'NO2(GT)')"
   ]
  },
  {
   "cell_type": "code",
   "execution_count": null,
   "id": "b13cb6c5-98ff-4c5b-9c2d-3940ac358b0d",
   "metadata": {
    "execution": {
     "iopub.execute_input": "2025-01-10T08:57:19.799756Z",
     "iopub.status.busy": "2025-01-10T08:57:19.799503Z",
     "iopub.status.idle": "2025-01-10T08:57:19.810195Z",
     "shell.execute_reply": "2025-01-10T08:57:19.809393Z",
     "shell.execute_reply.started": "2025-01-10T08:57:19.799735Z"
    }
   },
   "outputs": [],
   "source": [
    "# Function to remove outliers based on IQR\n",
    "def remove_outliers_iqr(df, column):\n",
    "    Q1 = df[column].quantile(0.25)\n",
    "    Q3 = df[column].quantile(0.75)\n",
    "    IQR = Q3 - Q1\n",
    "    lower_bound = Q1 - 1.5 * IQR\n",
    "    upper_bound = Q3 + 1.5 * IQR\n",
    "    return df[(df[column] >= lower_bound) & (df[column] <= upper_bound)]\n",
    "\n",
    "# Remove outliers for CO(GT) and NO2(GT)\n",
    "df = remove_outliers_iqr(df, 'CO(GT)')\n",
    "df = remove_outliers_iqr(df, 'NO2(GT)')\n",
    "\n",
    "# Reset index after removing outliers\n",
    "df.reset_index(drop=True, inplace=True)"
   ]
  },
  {
   "cell_type": "code",
   "execution_count": null,
   "id": "9473c67f-f743-46b6-8101-60a1b5422c19",
   "metadata": {
    "execution": {
     "iopub.execute_input": "2025-01-10T08:57:20.187423Z",
     "iopub.status.busy": "2025-01-10T08:57:20.187156Z",
     "iopub.status.idle": "2025-01-10T08:57:20.242587Z",
     "shell.execute_reply": "2025-01-10T08:57:20.241931Z",
     "shell.execute_reply.started": "2025-01-10T08:57:20.187387Z"
    }
   },
   "outputs": [],
   "source": [
    "from scipy.stats import zscore\n",
    "\n",
    "# Z-Score Method\n",
    "def detect_outliers_zscore(data, threshold=3):\n",
    "    outliers = {}\n",
    "    for col in data.select_dtypes(include=np.number):  # Numeric columns only\n",
    "        z_scores = zscore(data[col].dropna())\n",
    "        outliers[col] = data[col][np.abs(z_scores) > threshold]\n",
    "    return outliers\n",
    "\n",
    "# IQR Method\n",
    "def detect_outliers_iqr(data):\n",
    "    outliers = {}\n",
    "    for col in data.select_dtypes(include=np.number):  # Numeric columns only\n",
    "        Q1 = data[col].quantile(0.25)\n",
    "        Q3 = data[col].quantile(0.75)\n",
    "        IQR = Q3 - Q1\n",
    "        lower_bound = Q1 - 1.5 * IQR\n",
    "        upper_bound = Q3 + 1.5 * IQR\n",
    "        outliers[col] = data[col][(data[col] < lower_bound) | (data[col] > upper_bound)]\n",
    "    return outliers\n",
    "\n",
    "# Detect outliers using both methods\n",
    "zscore_outliers = detect_outliers_zscore(df)\n",
    "iqr_outliers = detect_outliers_iqr(df)\n",
    "\n",
    "# Print results\n",
    "print(\"Outliers detected using Z-Score:\")\n",
    "for col, outlier_values in zscore_outliers.items():\n",
    "    print(f\"{col}: {len(outlier_values)} outliers\")\n",
    "\n",
    "print(\"\\nOutliers detected using IQR:\")\n",
    "for col, outlier_values in iqr_outliers.items():\n",
    "    print(f\"{col}: {len(outlier_values)} outliers\")"
   ]
  },
  {
   "cell_type": "code",
   "execution_count": null,
   "id": "a9b8ee5f-de3c-4e8b-985b-016195ae7d47",
   "metadata": {
    "execution": {
     "iopub.execute_input": "2025-01-10T08:57:20.243491Z",
     "iopub.status.busy": "2025-01-10T08:57:20.243269Z",
     "iopub.status.idle": "2025-01-10T08:57:20.302295Z",
     "shell.execute_reply": "2025-01-10T08:57:20.301481Z",
     "shell.execute_reply.started": "2025-01-10T08:57:20.243472Z"
    }
   },
   "outputs": [],
   "source": [
    "# Remove outliers using Z-score method\n",
    "def remove_outliers_zscore(data, threshold=3):\n",
    "    for col in data.select_dtypes(include=np.number):\n",
    "        z_scores = zscore(data[col].dropna())\n",
    "        data = data[np.abs(z_scores) <= threshold]\n",
    "    return data\n",
    "\n",
    "# Remove outliers using IQR method\n",
    "def remove_outliers_iqr(data):\n",
    "    for col in data.select_dtypes(include=np.number):\n",
    "        Q1 = data[col].quantile(0.25)\n",
    "        Q3 = data[col].quantile(0.75)\n",
    "        IQR = Q3 - Q1\n",
    "        lower_bound = Q1 - 1.5 * IQR\n",
    "        upper_bound = Q3 + 1.5 * IQR\n",
    "        data = data[(data[col] >= lower_bound) & (data[col] <= upper_bound)]\n",
    "    return data\n",
    "\n",
    "# Example usage\n",
    "df_cleaned_zscore = remove_outliers_zscore(df.copy())\n",
    "df_cleaned_iqr = remove_outliers_iqr(df.copy())\n",
    "\n",
    "print(\"Dataset after removing outliers (Z-score):\", df_cleaned_zscore.shape)\n",
    "print(\"Dataset after removing outliers (IQR):\", df_cleaned_iqr.shape)"
   ]
  },
  {
   "cell_type": "code",
   "execution_count": null,
   "id": "eb7e841b-190b-4f01-8ffd-03c65d9b91fa",
   "metadata": {
    "execution": {
     "iopub.execute_input": "2025-01-10T08:57:20.303430Z",
     "iopub.status.busy": "2025-01-10T08:57:20.303138Z",
     "iopub.status.idle": "2025-01-10T08:57:20.579559Z",
     "shell.execute_reply": "2025-01-10T08:57:20.578730Z",
     "shell.execute_reply.started": "2025-01-10T08:57:20.303400Z"
    }
   },
   "outputs": [],
   "source": [
    "import matplotlib.pyplot as plt\n",
    "\n",
    "# CO(GT) Boxplots\n",
    "plt.figure(figsize=(10, 5))\n",
    "plt.subplot(1, 2, 1)\n",
    "df['CO(GT)'].plot(kind='box', title='Boxplot of CO(GT)')\n",
    "plt.ylabel('CO(GT)')\n",
    "\n",
    "# NO2(GT) Boxplots\n",
    "plt.subplot(1, 2, 2)\n",
    "df['NO2(GT)'].plot(kind='box', title='Boxplot of NO2(GT)')\n",
    "plt.ylabel('NO2(GT)')\n",
    "\n",
    "plt.tight_layout()\n",
    "plt.show()"
   ]
  },
  {
   "cell_type": "code",
   "execution_count": null,
   "id": "3e4d4de7-465e-4cfe-8d13-1ebeb3552b3e",
   "metadata": {
    "execution": {
     "iopub.execute_input": "2025-01-10T08:57:20.580720Z",
     "iopub.status.busy": "2025-01-10T08:57:20.580430Z",
     "iopub.status.idle": "2025-01-10T08:57:21.203411Z",
     "shell.execute_reply": "2025-01-10T08:57:21.202679Z",
     "shell.execute_reply.started": "2025-01-10T08:57:20.580698Z"
    }
   },
   "outputs": [],
   "source": [
    "# Adjust Z-Score Threshold for Outlier Detection\n",
    "z_threshold = 3.5  \n",
    "df['CO(GT)_zscore'] = zscore(df['CO(GT)'])\n",
    "\n",
    "# Identify Outliers\n",
    "outliers = df.loc[abs(df['CO(GT)_zscore']) > z_threshold, 'CO(GT)']\n",
    "print(f\"Identified Outliers:\\n{outliers}\")\n",
    "\n",
    "# Cap Outliers Instead of Replacing with Median\n",
    "Q1 = df['CO(GT)'].quantile(0.25)\n",
    "Q3 = df['CO(GT)'].quantile(0.75)\n",
    "IQR = Q3 - Q1\n",
    "lower_bound = Q1 - 1.5 * IQR\n",
    "upper_bound = Q3 + 1.5 * IQR\n",
    "\n",
    "# Cap values at lower and upper bounds\n",
    "df['CO(GT)'] = df['CO(GT)'].clip(lower=lower_bound, upper=upper_bound)\n",
    "\n",
    "# Drop the temporary Z-score column\n",
    "df.drop(columns=['CO(GT)_zscore'], inplace=True)\n",
    "\n",
    "# Visualize the Results\n",
    "# Boxplot\n",
    "plt.figure(figsize=(10, 5))\n",
    "plt.subplot(1, 2, 1)\n",
    "df['CO(GT)'].plot(kind='box', title='Boxplot of CO(GT) After Handling Outliers')\n",
    "plt.subplot(1, 2, 2)\n",
    "df['NO2(GT)'].plot(kind='box', title='Boxplot of NO2(GT)')\n",
    "plt.tight_layout()\n",
    "plt.show()\n",
    "\n",
    "# Histogram for Distribution Check\n",
    "plt.figure(figsize=(12, 6))\n",
    "plt.hist(df['CO(GT)'], bins=30, edgecolor='k', alpha=0.7)\n",
    "plt.title('Distribution of CO(GT) After Handling Outliers (Capping)')\n",
    "plt.xlabel('CO(GT)')\n",
    "plt.ylabel('Frequency')\n",
    "plt.show()"
   ]
  },
  {
   "cell_type": "code",
   "execution_count": null,
   "id": "bbce497f-68d7-481f-a609-1012826f717b",
   "metadata": {
    "execution": {
     "iopub.execute_input": "2025-01-10T08:57:21.204498Z",
     "iopub.status.busy": "2025-01-10T08:57:21.204267Z",
     "iopub.status.idle": "2025-01-10T08:57:21.771810Z",
     "shell.execute_reply": "2025-01-10T08:57:21.770936Z",
     "shell.execute_reply.started": "2025-01-10T08:57:21.204468Z"
    }
   },
   "outputs": [],
   "source": [
    "# CO(GT) and NO2(GT) Histplolt\n",
    "plt.figure(figsize=(10, 5))\n",
    "\n",
    "# CO(GT) Histplolt\n",
    "plt.subplot(1, 2, 1)\n",
    "df['CO(GT)'].plot(kind='hist', bins=30, title='Histogram of CO(GT)')\n",
    "plt.xlabel('CO(GT)')\n",
    "\n",
    "# NO2(GT) Histplolt\n",
    "plt.subplot(1, 2, 2)\n",
    "df['NO2(GT)'].plot(kind='hist', bins=30, title='Histogram of NO2(GT)')\n",
    "plt.xlabel('NO2(GT)')\n",
    "\n",
    "plt.tight_layout()\n",
    "plt.show()"
   ]
  },
  {
   "cell_type": "code",
   "execution_count": null,
   "id": "8cc15ff3-a8ed-443a-8179-6c8d643e54b4",
   "metadata": {
    "execution": {
     "iopub.execute_input": "2025-01-10T08:57:21.777160Z",
     "iopub.status.busy": "2025-01-10T08:57:21.776906Z",
     "iopub.status.idle": "2025-01-10T08:57:22.234934Z",
     "shell.execute_reply": "2025-01-10T08:57:22.234063Z",
     "shell.execute_reply.started": "2025-01-10T08:57:21.777139Z"
    }
   },
   "outputs": [],
   "source": [
    "plt.figure(figsize=(10, 5))\n",
    "\n",
    "# CO(GT) Plot\n",
    "plt.subplot(2, 1, 1)\n",
    "plt.plot(df.index, df['CO(GT)'], 'o', alpha=0.5)\n",
    "plt.title('Time Series of CO(GT)')\n",
    "plt.ylabel('CO(GT)')\n",
    "\n",
    "# NO2(GT) Plot\n",
    "plt.subplot(2, 1, 2)\n",
    "plt.plot(df.index, df['NO2(GT)'], 'o', alpha=0.5)\n",
    "plt.title('Time Series of NO2(GT)')\n",
    "plt.ylabel('NO2(GT)')\n",
    "\n",
    "plt.tight_layout()\n",
    "plt.show()"
   ]
  },
  {
   "cell_type": "code",
   "execution_count": null,
   "id": "588ea9cb-99a7-4513-96e9-f8a011b80b9d",
   "metadata": {
    "execution": {
     "iopub.execute_input": "2025-01-10T08:57:22.238463Z",
     "iopub.status.busy": "2025-01-10T08:57:22.238162Z",
     "iopub.status.idle": "2025-01-10T08:57:22.243207Z",
     "shell.execute_reply": "2025-01-10T08:57:22.242518Z",
     "shell.execute_reply.started": "2025-01-10T08:57:22.238436Z"
    }
   },
   "outputs": [],
   "source": [
    "df.columns"
   ]
  },
  {
   "cell_type": "code",
   "execution_count": null,
   "id": "e724d751-0b2d-4c90-bf60-de9ac55353ed",
   "metadata": {
    "execution": {
     "iopub.execute_input": "2025-01-10T08:57:22.244175Z",
     "iopub.status.busy": "2025-01-10T08:57:22.243952Z",
     "iopub.status.idle": "2025-01-10T08:57:22.893931Z",
     "shell.execute_reply": "2025-01-10T08:57:22.893062Z",
     "shell.execute_reply.started": "2025-01-10T08:57:22.244156Z"
    }
   },
   "outputs": [],
   "source": [
    "import matplotlib.pyplot as plt\n",
    "\n",
    "# Plotting CO(GT) historical data\n",
    "plt.figure(figsize=(12, 6))\n",
    "plt.plot(df['CO(GT)'], label='CO(GT)', color='blue')\n",
    "plt.title('Historical Levels of CO(GT)')\n",
    "plt.xlabel('Time')\n",
    "plt.ylabel('Concentration')\n",
    "plt.legend()\n",
    "plt.show()\n",
    "\n",
    "# Plotting NO2(GT) historical data\n",
    "plt.figure(figsize=(12, 6))\n",
    "plt.plot(df['NO2(GT)'], label='NO2(GT)', color='green')\n",
    "plt.title('Historical Levels of NO2(GT)')\n",
    "plt.xlabel('Time')\n",
    "plt.ylabel('Concentration')\n",
    "plt.legend()\n",
    "plt.show()"
   ]
  },
  {
   "cell_type": "markdown",
   "id": "b3fb8b3d-c8fc-4578-b68c-6cf9e4d29640",
   "metadata": {},
   "source": [
    "<div style=\"background-color: #f9f9fc; color: #333366; border-radius: 12px; margin: 20px auto; padding: 20px; border: 2px solid #ff4c4c; max-width: 1000px; font-family: Arial, sans-serif; line-height: 1.6;\">\n",
    "  <h2 style=\"text-align: center; color: #333366;\">2. Exploratory Data Analysis (EDA)</h2>\n",
    "\n",
    "  ---\n",
    "- **Trend Analysis**:\n",
    "  - Visualize the long-term trends of `CO(GT)` and `NO₂(GT)`.\n",
    "- **Seasonality**:\n",
    "  - Identify seasonal patterns (e.g., daily or yearly fluctuations).\n",
    "- **Correlation Analysis**:\n",
    "  - Explore relationships between `CO(GT)`, `NO₂(GT)`, and other features (e.g., temperature or humidity)."
   ]
  },
  {
   "cell_type": "markdown",
   "id": "7881de7a-ccf0-4763-9bd2-2744c4f60910",
   "metadata": {},
   "source": [
    "# Performing trend analysis using the same dataset"
   ]
  },
  {
   "cell_type": "code",
   "execution_count": null,
   "id": "c9d523b5-2fd2-4470-bb61-6c1fae709e8e",
   "metadata": {
    "execution": {
     "iopub.execute_input": "2025-01-10T08:57:22.895122Z",
     "iopub.status.busy": "2025-01-10T08:57:22.894860Z",
     "iopub.status.idle": "2025-01-10T08:57:23.535137Z",
     "shell.execute_reply": "2025-01-10T08:57:23.534069Z",
     "shell.execute_reply.started": "2025-01-10T08:57:22.895100Z"
    }
   },
   "outputs": [],
   "source": [
    "# Plot for CO(GT)\n",
    "plt.figure(figsize=(12, 6))\n",
    "plt.plot(df.index, df['CO(GT)'], label='CO(GT)', color='blue', alpha=0.7)\n",
    "plt.title('Long-Term Trend of CO(GT)')\n",
    "plt.xlabel('Time')\n",
    "plt.ylabel('Concentration')\n",
    "plt.legend()\n",
    "plt.show()\n",
    "\n",
    "# Plot for NO2(GT)\n",
    "plt.figure(figsize=(12, 6))\n",
    "plt.plot(df.index, df['NO2(GT)'], label='NO2(GT)', color='green', alpha=0.7)\n",
    "plt.title('Long-Term Trend of NO2(GT)')\n",
    "plt.xlabel('Time')\n",
    "plt.ylabel('Concentration')\n",
    "plt.legend()\n",
    "plt.show()"
   ]
  },
  {
   "cell_type": "code",
   "execution_count": null,
   "id": "d4204fbd-be1d-4340-aae0-40704d222365",
   "metadata": {
    "execution": {
     "iopub.execute_input": "2025-01-10T08:57:23.536478Z",
     "iopub.status.busy": "2025-01-10T08:57:23.536141Z",
     "iopub.status.idle": "2025-01-10T08:57:23.805628Z",
     "shell.execute_reply": "2025-01-10T08:57:23.804849Z",
     "shell.execute_reply.started": "2025-01-10T08:57:23.536445Z"
    }
   },
   "outputs": [],
   "source": [
    "# Correlation between features\n",
    "correlation = df[['CO(GT)', 'NO2(GT)', 'T', 'RH']].corr()\n",
    "\n",
    "# Visualize correlation as a heatmap\n",
    "import seaborn as sns\n",
    "\n",
    "plt.figure(figsize=(8, 6))\n",
    "sns.heatmap(correlation, annot=True, cmap='coolwarm')\n",
    "plt.title('Correlation Analysis')\n",
    "plt.show()"
   ]
  },
  {
   "cell_type": "code",
   "execution_count": null,
   "id": "5d92dc0a",
   "metadata": {
    "execution": {
     "iopub.execute_input": "2025-01-10T08:57:23.806759Z",
     "iopub.status.busy": "2025-01-10T08:57:23.806519Z",
     "iopub.status.idle": "2025-01-10T08:57:24.453185Z",
     "shell.execute_reply": "2025-01-10T08:57:24.452246Z",
     "shell.execute_reply.started": "2025-01-10T08:57:23.806737Z"
    }
   },
   "outputs": [],
   "source": [
    "# long-term trends Analysis\n",
    "plt.figure(figsize=(12, 6))\n",
    "plt.plot(df.index, df['CO(GT)'], label='CO(GT)', alpha=0.7)\n",
    "plt.plot(df.index, df['NO2(GT)'], label='NO2(GT)', alpha=0.7)\n",
    "plt.title('Long-Term Trends of CO(GT) and NO2(GT)')\n",
    "plt.xlabel('Time')\n",
    "plt.ylabel('Concentration')\n",
    "plt.legend()\n",
    "plt.show()"
   ]
  },
  {
   "cell_type": "code",
   "execution_count": null,
   "id": "0bbd61c9-bbda-4ddf-b9cf-65dcdce5b45b",
   "metadata": {
    "execution": {
     "iopub.execute_input": "2025-01-10T08:57:24.454291Z",
     "iopub.status.busy": "2025-01-10T08:57:24.454028Z",
     "iopub.status.idle": "2025-01-10T08:57:24.457439Z",
     "shell.execute_reply": "2025-01-10T08:57:24.456753Z",
     "shell.execute_reply.started": "2025-01-10T08:57:24.454268Z"
    }
   },
   "outputs": [],
   "source": [
    "# print(df['hour'].unique())  # Should show integers from 0 to 23\n",
    "# print(hourly_mean.head())  # Should show grouped hourly means with index as hours"
   ]
  },
  {
   "cell_type": "code",
   "execution_count": null,
   "id": "1687b325-3342-48a4-b8f7-29bf812d7d33",
   "metadata": {
    "execution": {
     "iopub.execute_input": "2025-01-10T08:57:24.458504Z",
     "iopub.status.busy": "2025-01-10T08:57:24.458289Z",
     "iopub.status.idle": "2025-01-10T08:57:25.173108Z",
     "shell.execute_reply": "2025-01-10T08:57:25.172296Z",
     "shell.execute_reply.started": "2025-01-10T08:57:24.458485Z"
    }
   },
   "outputs": [],
   "source": [
    "plt.figure(figsize=(15, 8))\n",
    "corr = df.select_dtypes(include=['number']).corr()\n",
    "sns.heatmap(corr, annot=True, cmap='coolwarm')\n",
    "plt.show()"
   ]
  },
  {
   "cell_type": "code",
   "execution_count": null,
   "id": "0a6c380f-e6ba-4cd1-ba0a-8a4655d1e66d",
   "metadata": {
    "execution": {
     "iopub.execute_input": "2025-01-10T08:57:25.174122Z",
     "iopub.status.busy": "2025-01-10T08:57:25.173891Z",
     "iopub.status.idle": "2025-01-10T08:57:25.453659Z",
     "shell.execute_reply": "2025-01-10T08:57:25.452742Z",
     "shell.execute_reply.started": "2025-01-10T08:57:25.174103Z"
    }
   },
   "outputs": [],
   "source": [
    "# Ensure the index is in datetime format\n",
    "df.index = pd.to_datetime(df.index)\n",
    "\n",
    "# Extract the 'month' from the index\n",
    "df['Month'] = df.index.month\n",
    "\n",
    "# Group by month and calculate the average\n",
    "monthly_avg = df.groupby('Month')[['CO(GT)', 'NO2(GT)']].mean()\n",
    "print(monthly_avg)\n",
    "\n",
    "# Step 4: Plot the seasonal trends\n",
    "monthly_avg.plot(figsize=(12, 6), marker='o')\n",
    "plt.title('Seasonality Analysis: Monthly Averages')\n",
    "plt.xlabel('Month')\n",
    "plt.ylabel('Average Concentration')\n",
    "plt.legend(title='Pollutants')\n",
    "plt.show()"
   ]
  },
  {
   "cell_type": "code",
   "execution_count": null,
   "id": "016b2ced",
   "metadata": {
    "execution": {
     "iopub.execute_input": "2025-01-10T08:57:25.454798Z",
     "iopub.status.busy": "2025-01-10T08:57:25.454533Z",
     "iopub.status.idle": "2025-01-10T08:57:25.735675Z",
     "shell.execute_reply": "2025-01-10T08:57:25.734732Z",
     "shell.execute_reply.started": "2025-01-10T08:57:25.454776Z"
    }
   },
   "outputs": [],
   "source": [
    "# Convert the index to datetime format\n",
    "df.index = pd.to_datetime(df.index)\n",
    "\n",
    "# Create the 'Hour' column\n",
    "df['Hour'] = df.index.hour\n",
    "\n",
    "# Calculate hourly averages\n",
    "hourly_avg = df.groupby('Hour')[['CO(GT)', 'NO2(GT)']].mean()\n",
    "\n",
    "# Display the hourly averages\n",
    "print(hourly_avg)\n",
    "\n",
    "# Step 5: Plot hourly averages\n",
    "plt.figure(figsize=(12, 6))\n",
    "plt.plot(hourly_avg.index, hourly_avg['CO(GT)'], label='CO(GT)', marker='o', color='blue')\n",
    "plt.plot(hourly_avg.index, hourly_avg['NO2(GT)'], label='NO2(GT)', marker='o', color='green')\n",
    "plt.title('Daily Seasonality Analysis')\n",
    "plt.xlabel('Hour of Day')\n",
    "plt.ylabel('Average Concentration')\n",
    "plt.legend()\n",
    "plt.grid()\n",
    "plt.show()"
   ]
  },
  {
   "cell_type": "code",
   "execution_count": null,
   "id": "ca58a78a-4928-4645-a964-200ee5fc7c91",
   "metadata": {
    "execution": {
     "iopub.execute_input": "2025-01-10T08:57:25.736777Z",
     "iopub.status.busy": "2025-01-10T08:57:25.736511Z",
     "iopub.status.idle": "2025-01-10T08:57:26.000602Z",
     "shell.execute_reply": "2025-01-10T08:57:25.999843Z",
     "shell.execute_reply.started": "2025-01-10T08:57:25.736752Z"
    }
   },
   "outputs": [],
   "source": [
    "import seaborn as sns\n",
    "\n",
    "# correlation matrix\n",
    "correlation_matrix = df[['CO(GT)', 'NO2(GT)', 'T', 'RH']].corr()\n",
    "\n",
    "# Plot heatmap\n",
    "plt.figure(figsize=(8, 6))\n",
    "sns.heatmap(correlation_matrix, annot=True, cmap='coolwarm', fmt='.2f')\n",
    "plt.title('Correlation Between Variables')\n",
    "plt.show()"
   ]
  },
  {
   "cell_type": "code",
   "execution_count": null,
   "id": "6f4cbebb-52f8-4a3b-b6f3-d02576498576",
   "metadata": {
    "execution": {
     "iopub.execute_input": "2025-01-10T08:57:26.001607Z",
     "iopub.status.busy": "2025-01-10T08:57:26.001350Z",
     "iopub.status.idle": "2025-01-10T08:57:29.594539Z",
     "shell.execute_reply": "2025-01-10T08:57:29.593695Z",
     "shell.execute_reply.started": "2025-01-10T08:57:26.001574Z"
    }
   },
   "outputs": [],
   "source": [
    "# Pair plot to visualize relationships\n",
    "sns.pairplot(df[['CO(GT)', 'NO2(GT)', 'T', 'RH']])\n",
    "plt.show()"
   ]
  },
  {
   "cell_type": "markdown",
   "id": "ca967b27-63f2-404d-b12f-0ef7f554e6e7",
   "metadata": {},
   "source": [
    "<div style=\"background-color: #f9f9fc; color: #333366; border-radius: 12px; margin: 20px auto; padding: 20px; border: 2px solid #ff4c4c; max-width: 1000px; font-family: Arial, sans-serif; line-height: 1.6;\">\n",
    "  <h2 style=\"text-align: center; color: #333366;\">3. Feature Engineering</h2>\n",
    "    \n",
    "  ---\n",
    "- Create lag features for `CO(GT)` and `NO₂(GT)` to incorporate historical values.\n",
    "- Add time-based features (e.g., hour of the day, day of the week, month).\n",
    "- Include environmental factors (`T`, `RH`, `AH`) as predictors."
   ]
  },
  {
   "cell_type": "code",
   "execution_count": null,
   "id": "b3178a1a",
   "metadata": {
    "execution": {
     "iopub.execute_input": "2025-01-10T08:57:29.595739Z",
     "iopub.status.busy": "2025-01-10T08:57:29.595439Z",
     "iopub.status.idle": "2025-01-10T08:57:29.605663Z",
     "shell.execute_reply": "2025-01-10T08:57:29.604954Z",
     "shell.execute_reply.started": "2025-01-10T08:57:29.595712Z"
    }
   },
   "outputs": [],
   "source": [
    "# Create lag features for CO(GT) and NO2(GT)\n",
    "df['CO_lag1'] = df['CO(GT)'].shift(1)\n",
    "df['CO_lag2'] = df['CO(GT)'].shift(2)\n",
    "\n",
    "df['NO2_lag1'] = df['NO2(GT)'].shift(1)\n",
    "df['NO2_lag2'] = df['NO2(GT)'].shift(2)\n",
    "\n",
    "# Drop rows with NaN values caused by lagging\n",
    "df = df.dropna()"
   ]
  },
  {
   "cell_type": "code",
   "execution_count": null,
   "id": "0036049b",
   "metadata": {
    "execution": {
     "iopub.execute_input": "2025-01-10T08:57:29.606729Z",
     "iopub.status.busy": "2025-01-10T08:57:29.606431Z",
     "iopub.status.idle": "2025-01-10T08:57:29.624436Z",
     "shell.execute_reply": "2025-01-10T08:57:29.623533Z",
     "shell.execute_reply.started": "2025-01-10T08:57:29.606693Z"
    }
   },
   "outputs": [],
   "source": [
    "# Extract time-based features using .loc to modify the original DataFrame\n",
    "df.loc[:, 'hour'] = df.index.hour\n",
    "df.loc[:, 'day_of_week'] = df.index.dayofweek  # 0 = Monday, 6 = Sunday\n",
    "df.loc[:, 'month'] = df.index.month"
   ]
  },
  {
   "cell_type": "code",
   "execution_count": null,
   "id": "4c82df12-62c2-4013-8640-0337e3ee1377",
   "metadata": {
    "execution": {
     "iopub.execute_input": "2025-01-10T08:57:29.625861Z",
     "iopub.status.busy": "2025-01-10T08:57:29.625473Z",
     "iopub.status.idle": "2025-01-10T08:57:29.634307Z",
     "shell.execute_reply": "2025-01-10T08:57:29.633563Z",
     "shell.execute_reply.started": "2025-01-10T08:57:29.625825Z"
    }
   },
   "outputs": [],
   "source": [
    "# Ensure predictors are present\n",
    "predictors = ['T', 'RH', 'AH', 'CO_lag1', 'CO_lag2', 'NO2_lag1', 'NO2_lag2', 'hour', 'day_of_week', 'month']"
   ]
  },
  {
   "cell_type": "code",
   "execution_count": null,
   "id": "f622e8af-5b21-4f08-b4b4-b7fe265977a8",
   "metadata": {
    "execution": {
     "iopub.execute_input": "2025-01-10T08:57:29.635292Z",
     "iopub.status.busy": "2025-01-10T08:57:29.635046Z",
     "iopub.status.idle": "2025-01-10T08:57:29.656903Z",
     "shell.execute_reply": "2025-01-10T08:57:29.656072Z",
     "shell.execute_reply.started": "2025-01-10T08:57:29.635248Z"
    }
   },
   "outputs": [],
   "source": [
    "# Define X (features) and y (target)\n",
    "X = df[predictors]\n",
    "y_CO = df['CO(GT)']\n",
    "y_NO2 = df['NO2(GT)']\n",
    "\n",
    "# Check the final feature set\n",
    "print(X.head())"
   ]
  },
  {
   "cell_type": "code",
   "execution_count": null,
   "id": "07672258-c6cb-4dbd-9450-fd85af396d9c",
   "metadata": {
    "execution": {
     "iopub.execute_input": "2025-01-10T08:57:29.657966Z",
     "iopub.status.busy": "2025-01-10T08:57:29.657686Z",
     "iopub.status.idle": "2025-01-10T08:57:29.676885Z",
     "shell.execute_reply": "2025-01-10T08:57:29.676066Z",
     "shell.execute_reply.started": "2025-01-10T08:57:29.657939Z"
    }
   },
   "outputs": [],
   "source": [
    "# Display the first few rows to check lag features\n",
    "print(df[['CO(GT)', 'CO_lag1', 'CO_lag2', 'NO2(GT)', 'NO2_lag1', 'NO2_lag2']].head(10))"
   ]
  },
  {
   "cell_type": "code",
   "execution_count": null,
   "id": "7ac04ff6-d1e1-4463-8308-652384f0b3f6",
   "metadata": {
    "execution": {
     "iopub.execute_input": "2025-01-10T08:57:29.678089Z",
     "iopub.status.busy": "2025-01-10T08:57:29.677828Z",
     "iopub.status.idle": "2025-01-10T08:57:30.688394Z",
     "shell.execute_reply": "2025-01-10T08:57:30.687269Z",
     "shell.execute_reply.started": "2025-01-10T08:57:29.678058Z"
    }
   },
   "outputs": [],
   "source": [
    "import matplotlib.pyplot as plt\n",
    "\n",
    "# Plot CO(GT) with its lag features\n",
    "plt.figure(figsize=(12, 6))\n",
    "plt.plot(df['CO(GT)'], label='CO(GT)', color='blue')\n",
    "plt.plot(df['CO_lag1'], label='CO_lag1', color='orange', linestyle='--')\n",
    "plt.plot(df['CO_lag2'], label='CO_lag2', color='green', linestyle='--')\n",
    "plt.title('CO(GT) and its Lag Features')\n",
    "plt.xlabel('Time')\n",
    "plt.ylabel('Concentration')\n",
    "plt.legend()\n",
    "plt.show()\n",
    "\n",
    "# Plot NO2(GT) with its lag features\n",
    "plt.figure(figsize=(12, 6))\n",
    "plt.plot(df['NO2(GT)'], label='NO2(GT)', color='blue')\n",
    "plt.plot(df['NO2_lag1'], label='NO2_lag1', color='orange', linestyle='--')\n",
    "plt.plot(df['NO2_lag2'], label='NO2_lag2', color='green', linestyle='--')\n",
    "plt.title('NO2(GT) and its Lag Features')\n",
    "plt.xlabel('Time')\n",
    "plt.ylabel('Concentration')\n",
    "plt.legend()\n",
    "plt.show()"
   ]
  },
  {
   "cell_type": "markdown",
   "id": "45e64a1d-40b1-4564-a993-48b9a2d24eb5",
   "metadata": {},
   "source": [
    "<div style=\"background-color: #f9f9fc; color: #333366; border-radius: 12px; margin: 20px auto; padding: 20px; border: 2px solid #ff4c4c; max-width: 1000px; font-family: Arial, sans-serif; line-height: 1.6;\">\n",
    "  <h2 style=\"text-align: center; color: #333366;\">4. Time-Series Forecasting</h2>\n",
    "\n",
    "\n",
    "  ---\n",
    "- Train separate models for **CO(GT)** and **NO₂(GT)**.\n",
    "- Explore the following forecasting approaches:\n",
    "  - **Statistical Models**:\n",
    "    - Classical models like ARIMA or SARIMA for univariate forecasting.\n",
    "  - **Machine Learning Models**:\n",
    "    - Use regression models trained on lag features and external predictors.\n",
    "  - **Deep Learning Models**:\n",
    "    - Apply LSTM, GRU, or other RNN-based models for sequence forecasting.\n",
    "- Evaluate and compare the models."
   ]
  },
  {
   "cell_type": "markdown",
   "id": "931b0f2e-ca44-4f15-aeab-6000ec8f15f7",
   "metadata": {},
   "source": [
    "<div style=\"background-color: #f9f9fc; color: #333366; border-radius: 12px; margin: 20px auto; padding: 20px; border: 2px solid #ff4c4c; max-width: 1000px; font-family: Arial, sans-serif; line-height: 1.6;\">\n",
    "  <h2 style=\"text-align: center; color: #333366;\">Steps for SARIMA Model Preparation and Implementation</h2>\n",
    "\n",
    "---\n",
    "\n",
    "### Step 1: Preparing the Dataset\n",
    "- **Stationarity**: Ensure that the data is stationary by performing stationarity tests (e.g., ADF test).\n",
    "- **Seasonality**: Properly capture seasonality and trends in the data.\n",
    "- **Train-Test Split**: Split the dataset into training and testing sets.\n",
    "\n",
    "### Step 2: Parameter Selection for SARIMA Model\n",
    "- Identify the parameters \\( p, d, q, P, D, Q, s \\) for the SARIMA model.\n",
    "\n",
    "### Step 3: Build the SARIMA Model\n",
    "- Fit the SARIMA model using the parameters obtained (e.g., from Auto ARIMA).\n",
    "\n",
    "### Step 4: Forecasting\n",
    "- Generate separate forecasts for **CO** and **NO2** levels.\n",
    "\n",
    "### Step 5: Evaluation\n",
    "- Evaluate the performance of the forecasts using appropriate metrics (e.g., RMSE, MAE)."
   ]
  },
  {
   "cell_type": "code",
   "execution_count": null,
   "id": "689e8e93-54d3-4ce6-a70a-f73a607deec8",
   "metadata": {
    "execution": {
     "iopub.execute_input": "2025-01-10T08:57:30.689489Z",
     "iopub.status.busy": "2025-01-10T08:57:30.689253Z",
     "iopub.status.idle": "2025-01-10T08:57:31.762607Z",
     "shell.execute_reply": "2025-01-10T08:57:31.761188Z",
     "shell.execute_reply.started": "2025-01-10T08:57:30.689467Z"
    }
   },
   "outputs": [],
   "source": [
    "from statsmodels.tsa.stattools import adfuller\n",
    "\n",
    "# Check stationarity for CO(GT)\n",
    "result_co = adfuller(df['CO(GT)'])\n",
    "print(\"CO(GT) - ADF Statistic:\", result_co[0])\n",
    "print(\"CO(GT) - p-value:\", result_co[1])\n",
    "\n",
    "# Check stationarity for NO2(GT)\n",
    "result_no2 = adfuller(df['NO2(GT)'])\n",
    "print(\"NO2(GT) - ADF Statistic:\", result_no2[0])\n",
    "print(\"NO2(GT) - p-value:\", result_no2[1])\n"
   ]
  },
  {
   "cell_type": "code",
   "execution_count": null,
   "id": "14e02d17-896c-4aba-88e0-2d6f719295a2",
   "metadata": {
    "execution": {
     "iopub.execute_input": "2025-01-10T08:57:31.763875Z",
     "iopub.status.busy": "2025-01-10T08:57:31.763503Z",
     "iopub.status.idle": "2025-01-10T08:57:31.775648Z",
     "shell.execute_reply": "2025-01-10T08:57:31.774282Z",
     "shell.execute_reply.started": "2025-01-10T08:57:31.763847Z"
    }
   },
   "outputs": [],
   "source": [
    "# Differencing if needed\n",
    "df['CO_diff'] = df['CO(GT)'].diff().dropna()\n",
    "df['NO2_diff'] = df['NO2(GT)'].diff().dropna()"
   ]
  },
  {
   "cell_type": "code",
   "execution_count": null,
   "id": "5d5ab3ac",
   "metadata": {},
   "outputs": [],
   "source": [
    "from pmdarima import auto_arima\n",
    "\n",
    "# Auto ARIMA for CO(GT)\n",
    "auto_arima_co = auto_arima(df['CO(GT)'], seasonal=True, m=12)\n",
    "print(auto_arima_co.summary())\n",
    "\n",
    "# Auto ARIMA for NO2(GT)\n",
    "auto_arima_no2 = auto_arima(df['NO2(GT)'], seasonal=True, m=12)\n",
    "print(auto_arima_no2.summary())"
   ]
  },
  {
   "cell_type": "code",
   "execution_count": null,
   "id": "5d5ab3ac",
   "metadata": {},
   "outputs": [],
   "source": []
  },
  {
   "cell_type": "code",
   "execution_count": null,
   "id": "01b256ce",
   "metadata": {},
   "outputs": [],
   "source": [
    "pip install --upgrade numpy scipy pmdarima"
   ]
  },
  {
   "cell_type": "code",
   "execution_count": null,
   "id": "032d4cb1-405b-4be4-aafa-115867a3750c",
   "metadata": {
    "execution": {
     "iopub.execute_input": "2025-01-10T09:28:42.493071Z",
     "iopub.status.busy": "2025-01-10T09:28:42.492818Z",
     "iopub.status.idle": "2025-01-10T09:28:55.244603Z",
     "shell.execute_reply": "2025-01-10T09:28:55.243782Z",
     "shell.execute_reply.started": "2025-01-10T09:28:42.493049Z"
    }
   },
   "outputs": [],
   "source": [
    "from statsmodels.tsa.statespace.sarimax import SARIMAX\n",
    "\n",
    "# Fit SARIMA model for CO(GT)\n",
    "sarima_co = SARIMAX(df['CO(GT)'], \n",
    "                    order=(1, 1, 1), \n",
    "                    seasonal_order=(1, 1, 1, 12))\n",
    "sarima_co_fit = sarima_co.fit()\n",
    "print(sarima_co_fit.summary())"
   ]
  },
  {
   "cell_type": "code",
   "execution_count": null,
   "id": "09057593-37ec-4795-8ce8-1ae8e39e1223",
   "metadata": {
    "execution": {
     "iopub.execute_input": "2025-01-10T09:28:55.245675Z",
     "iopub.status.busy": "2025-01-10T09:28:55.245448Z",
     "iopub.status.idle": "2025-01-10T09:29:29.818170Z",
     "shell.execute_reply": "2025-01-10T09:29:29.817346Z",
     "shell.execute_reply.started": "2025-01-10T09:28:55.245646Z"
    }
   },
   "outputs": [],
   "source": [
    "# Fit SARIMA model for NO2(GT)\n",
    "sarima_no2 = SARIMAX(df['NO2(GT)'], \n",
    "                     order=(1, 1, 1), \n",
    "                     seasonal_order=(1, 1, 1, 12))\n",
    "sarima_no2_fit = sarima_no2.fit()\n",
    "print(sarima_no2_fit.summary())"
   ]
  },
  {
   "cell_type": "code",
   "execution_count": null,
   "id": "2024d514-6f1a-4ad2-8084-59c014c3e2f7",
   "metadata": {
    "execution": {
     "iopub.execute_input": "2025-01-10T09:29:29.819546Z",
     "iopub.status.busy": "2025-01-10T09:29:29.819209Z",
     "iopub.status.idle": "2025-01-10T09:29:30.055957Z",
     "shell.execute_reply": "2025-01-10T09:29:30.055069Z",
     "shell.execute_reply.started": "2025-01-10T09:29:29.819503Z"
    }
   },
   "outputs": [],
   "source": [
    "forecast_co = sarima_co_fit.get_forecast(steps=30)\n",
    "forecast_co_values = forecast_co.predicted_mean\n",
    "forecast_co_ci = forecast_co.conf_int()\n",
    "\n",
    "# Plot CO(GT) Forecast\n",
    "import matplotlib.pyplot as plt\n",
    "\n",
    "plt.figure(figsize=(12, 6))\n",
    "plt.plot(df['CO(GT)'], label='Observed CO(GT)')\n",
    "plt.plot(forecast_co_values, label='Forecasted CO(GT)', color='red')\n",
    "plt.fill_between(forecast_co_values.index, \n",
    "                 forecast_co_ci.iloc[:, 0], \n",
    "                 forecast_co_ci.iloc[:, 1], color='pink', alpha=0.3)\n",
    "plt.legend()\n",
    "plt.title('CO(GT) Forecast')\n",
    "plt.show()"
   ]
  },
  {
   "cell_type": "code",
   "execution_count": null,
   "id": "34ed58b2-ad04-494a-82ba-ce3b5fe601ed",
   "metadata": {
    "execution": {
     "iopub.execute_input": "2025-01-10T09:29:30.057270Z",
     "iopub.status.busy": "2025-01-10T09:29:30.056931Z",
     "iopub.status.idle": "2025-01-10T09:29:30.361802Z",
     "shell.execute_reply": "2025-01-10T09:29:30.360958Z",
     "shell.execute_reply.started": "2025-01-10T09:29:30.057237Z"
    }
   },
   "outputs": [],
   "source": [
    "forecast_no2 = sarima_no2_fit.get_forecast(steps=30)\n",
    "forecast_no2_values = forecast_no2.predicted_mean\n",
    "forecast_no2_ci = forecast_no2.conf_int()\n",
    "\n",
    "# Plot NO2(GT) Forecast\n",
    "plt.figure(figsize=(12, 6))\n",
    "plt.plot(df['NO2(GT)'], label='Observed NO2(GT)')\n",
    "plt.plot(forecast_no2_values, label='Forecasted NO2(GT)', color='red')\n",
    "plt.fill_between(forecast_no2_values.index, \n",
    "                 forecast_no2_ci.iloc[:, 0], \n",
    "                 forecast_no2_ci.iloc[:, 1], color='pink', alpha=0.3)\n",
    "plt.legend()\n",
    "plt.title('NO2(GT) Forecast')\n",
    "plt.show()"
   ]
  },
  {
   "cell_type": "code",
   "execution_count": null,
   "id": "fb5a45c3-515c-4662-948f-303bd35392d5",
   "metadata": {
    "execution": {
     "iopub.execute_input": "2025-01-10T09:29:30.362841Z",
     "iopub.status.busy": "2025-01-10T09:29:30.362591Z",
     "iopub.status.idle": "2025-01-10T09:29:30.370325Z",
     "shell.execute_reply": "2025-01-10T09:29:30.369620Z",
     "shell.execute_reply.started": "2025-01-10T09:29:30.362819Z"
    }
   },
   "outputs": [],
   "source": [
    "from sklearn.metrics import mean_squared_error\n",
    "\n",
    "# RMSE for CO(GT)\n",
    "rmse_co = mean_squared_error(df['CO(GT)'].iloc[-30:], forecast_co_values, squared=False)\n",
    "print(\"RMSE for CO(GT):\", rmse_co)\n",
    "\n",
    "# RMSE for NO2(GT)\n",
    "rmse_no2 = mean_squared_error(df['NO2(GT)'].iloc[-30:], forecast_no2_values, squared=False)\n",
    "print(\"RMSE for NO2(GT):\", rmse_no2)"
   ]
  },
  {
   "cell_type": "markdown",
   "id": "e8b9c6da-a13c-4b0b-a68b-48a9c9e1c131",
   "metadata": {},
   "source": [
    "<div style=\"background-color: #f9f9fc; color: #333366; border-radius: 12px; margin: 20px auto; padding: 20px; border: 2px solid #ff4c4c; max-width: 1000px; font-family: Arial, sans-serif; line-height: 1.6;\">\n",
    "  <h2 style=\"text-align: center; color: #333366;\">Steps to Build LSTM Models for CO(GT) and NO2(GT)</h2>\n",
    "\n",
    "\n",
    "---\n",
    "\n",
    "## Step 1: Import Libraries\n",
    "\n",
    "## Step 2: Data Preparation\n",
    "\n",
    "## Step 3: Create Time Series Data\n",
    "- Create sequences for training and testing.\n",
    "    - **Function to create sequences for LSTM**\n",
    "    - **Create sequences for CO(GT)**\n",
    "    - **Create sequences for NO2(GT)**\n",
    "    - **Reshape inputs for LSTM**\n",
    "\n",
    "## Step 4: Train-Test Split\n",
    "- Split data into training and testing sets.\n",
    "    - **Split data for CO(GT)**\n",
    "    - **Split data for NO2(GT)**\n",
    "\n",
    "## Step 5: Build LSTM Models\n",
    "### For CO(GT):\n",
    "- **LSTM model for CO(GT)**\n",
    "- **Train the model**\n",
    "\n",
    "### For NO2(GT):\n",
    "- **LSTM model for NO2(GT)**\n",
    "- **Train the model**\n",
    "\n",
    "## Step 6: Evaluate Models\n",
    "- Plot training and validation loss.\n",
    "    - **Plot for CO(GT)**\n",
    "    - **Plot for NO2(GT)**\n",
    "\n",
    "## Step 7: Make Predictions\n",
    "- Predict using the trained models and inverse transform to get the actual values.\n",
    "\n",
    "### For CO(GT):\n",
    "- **Predict on test data**\n",
    "- **Plot CO(GT) Predictions**\n",
    "\n",
    "### For NO2(GT):\n",
    "- **Predict on test data**\n",
    "- **Plot NO2(GT) Predictions**"
   ]
  },
  {
   "cell_type": "code",
   "execution_count": null,
   "id": "88464c08-5634-4a39-98d0-98d7f6670c43",
   "metadata": {
    "execution": {
     "iopub.execute_input": "2025-01-10T09:29:30.371518Z",
     "iopub.status.busy": "2025-01-10T09:29:30.371217Z",
     "iopub.status.idle": "2025-01-10T09:29:30.394843Z",
     "shell.execute_reply": "2025-01-10T09:29:30.394220Z",
     "shell.execute_reply.started": "2025-01-10T09:29:30.371481Z"
    }
   },
   "outputs": [],
   "source": [
    "# Select columns for CO(GT) and NO2(GT)\n",
    "data_co = df[['CO(GT)']].dropna()\n",
    "data_no2 = df[['NO2(GT)']].dropna()\n",
    "\n",
    "# Normalize the data\n",
    "scaler_co = MinMaxScaler(feature_range=(0, 1))\n",
    "scaled_co = scaler_co.fit_transform(data_co)\n",
    "\n",
    "scaler_no2 = MinMaxScaler(feature_range=(0, 1))\n",
    "scaled_no2 = scaler_no2.fit_transform(data_no2)"
   ]
  },
  {
   "cell_type": "code",
   "execution_count": null,
   "id": "ec695d81-d4e4-4a85-bdf9-91ed98702f42",
   "metadata": {
    "execution": {
     "iopub.execute_input": "2025-01-10T09:29:30.395933Z",
     "iopub.status.busy": "2025-01-10T09:29:30.395644Z",
     "iopub.status.idle": "2025-01-10T09:29:30.424467Z",
     "shell.execute_reply": "2025-01-10T09:29:30.423880Z",
     "shell.execute_reply.started": "2025-01-10T09:29:30.395912Z"
    }
   },
   "outputs": [],
   "source": [
    "# Function to create sequences for LSTM\n",
    "def create_sequences(data, time_steps=30):\n",
    "    X, y = [], []\n",
    "    for i in range(len(data) - time_steps):\n",
    "        X.append(data[i:i+time_steps, 0])\n",
    "        y.append(data[i+time_steps, 0])\n",
    "    return np.array(X), np.array(y)\n",
    "\n",
    "# Create sequences for CO(GT)\n",
    "time_steps = 30\n",
    "X_co, y_co = create_sequences(scaled_co, time_steps)\n",
    "\n",
    "# Create sequences for NO2(GT)\n",
    "X_no2, y_no2 = create_sequences(scaled_no2, time_steps)\n",
    "\n",
    "# Reshape inputs for LSTM\n",
    "X_co = X_co.reshape((X_co.shape[0], X_co.shape[1], 1))\n",
    "X_no2 = X_no2.reshape((X_no2.shape[0], X_no2.shape[1], 1))"
   ]
  },
  {
   "cell_type": "code",
   "execution_count": null,
   "id": "38869d3f-abee-4194-b9b2-08aa849547a1",
   "metadata": {
    "execution": {
     "iopub.execute_input": "2025-01-10T09:29:30.425585Z",
     "iopub.status.busy": "2025-01-10T09:29:30.425290Z",
     "iopub.status.idle": "2025-01-10T09:29:30.429789Z",
     "shell.execute_reply": "2025-01-10T09:29:30.428972Z",
     "shell.execute_reply.started": "2025-01-10T09:29:30.425553Z"
    }
   },
   "outputs": [],
   "source": [
    "# Split data for CO(GT)\n",
    "train_size_co = int(len(X_co) * 0.8)\n",
    "X_train_co, X_test_co = X_co[:train_size_co], X_co[train_size_co:]\n",
    "y_train_co, y_test_co = y_co[:train_size_co], y_co[train_size_co:]\n",
    "\n",
    "# Split data for NO2(GT)\n",
    "train_size_no2 = int(len(X_no2) * 0.8)\n",
    "X_train_no2, X_test_no2 = X_no2[:train_size_no2], X_no2[train_size_no2:]\n",
    "y_train_no2, y_test_no2 = y_no2[:train_size_no2], y_no2[train_size_no2:]"
   ]
  },
  {
   "cell_type": "code",
   "execution_count": null,
   "id": "7ab0c600-1abe-4a46-93f4-5d0dbbe448e5",
   "metadata": {
    "execution": {
     "iopub.execute_input": "2025-01-10T09:29:30.430771Z",
     "iopub.status.busy": "2025-01-10T09:29:30.430552Z",
     "iopub.status.idle": "2025-01-10T09:30:04.024752Z",
     "shell.execute_reply": "2025-01-10T09:30:04.024064Z",
     "shell.execute_reply.started": "2025-01-10T09:29:30.430752Z"
    }
   },
   "outputs": [],
   "source": [
    "# LSTM model for CO(GT)\n",
    "model_co = Sequential([\n",
    "    LSTM(50, return_sequences=True, input_shape=(time_steps, 1)),\n",
    "    LSTM(50),\n",
    "    Dense(1)\n",
    "])\n",
    "\n",
    "model_co.compile(optimizer='adam', loss='mse')\n",
    "# Train the model\n",
    "history_co = model_co.fit(X_train_co, y_train_co, epochs=20, batch_size=32, validation_data=(X_test_co, y_test_co), verbose=1)"
   ]
  },
  {
   "cell_type": "code",
   "execution_count": null,
   "id": "ce2372eb-1069-443f-b5b3-4df57462e692",
   "metadata": {
    "execution": {
     "iopub.execute_input": "2025-01-10T09:30:04.026522Z",
     "iopub.status.busy": "2025-01-10T09:30:04.026191Z",
     "iopub.status.idle": "2025-01-10T09:30:34.693033Z",
     "shell.execute_reply": "2025-01-10T09:30:34.692091Z",
     "shell.execute_reply.started": "2025-01-10T09:30:04.026488Z"
    }
   },
   "outputs": [],
   "source": [
    "# LSTM model for NO2(GT)\n",
    "model_no2 = Sequential([\n",
    "    LSTM(50, return_sequences=True, input_shape=(time_steps, 1)),\n",
    "    LSTM(50),\n",
    "    Dense(1)\n",
    "])\n",
    "\n",
    "model_no2.compile(optimizer='adam', loss='mse')\n",
    "# Train the model\n",
    "history_no2 = model_no2.fit(X_train_no2, y_train_no2, epochs=20, batch_size=32, validation_data=(X_test_no2, y_test_no2), verbose=1)"
   ]
  },
  {
   "cell_type": "code",
   "execution_count": null,
   "id": "71725ac3-47bb-4820-ae33-2c99f00a93d5",
   "metadata": {
    "execution": {
     "iopub.execute_input": "2025-01-10T09:30:34.694635Z",
     "iopub.status.busy": "2025-01-10T09:30:34.694376Z",
     "iopub.status.idle": "2025-01-10T09:30:35.152902Z",
     "shell.execute_reply": "2025-01-10T09:30:35.152080Z",
     "shell.execute_reply.started": "2025-01-10T09:30:34.694612Z"
    }
   },
   "outputs": [],
   "source": [
    "# Plot for CO(GT)\n",
    "plt.figure(figsize=(12, 6))\n",
    "plt.plot(history_co.history['loss'], label='Training Loss - CO(GT)')\n",
    "plt.plot(history_co.history['val_loss'], label='Validation Loss - CO(GT)')\n",
    "plt.title('Training and Validation Loss for CO(GT)')\n",
    "plt.xlabel('Epochs')\n",
    "plt.ylabel('Loss')\n",
    "plt.legend()\n",
    "plt.show()\n",
    "\n",
    "# Plot for NO2(GT)\n",
    "plt.figure(figsize=(12, 6))\n",
    "plt.plot(history_no2.history['loss'], label='Training Loss - NO2(GT)')\n",
    "plt.plot(history_no2.history['val_loss'], label='Validation Loss - NO2(GT)')\n",
    "plt.title('Training and Validation Loss for NO2(GT)')\n",
    "plt.xlabel('Epochs')\n",
    "plt.ylabel('Loss')\n",
    "plt.legend()\n",
    "plt.show()"
   ]
  },
  {
   "cell_type": "code",
   "execution_count": null,
   "id": "2a9c101b-ecd5-4946-9600-322e7e33c402",
   "metadata": {
    "execution": {
     "iopub.execute_input": "2025-01-10T09:30:35.154110Z",
     "iopub.status.busy": "2025-01-10T09:30:35.153771Z",
     "iopub.status.idle": "2025-01-10T09:30:35.868213Z",
     "shell.execute_reply": "2025-01-10T09:30:35.867365Z",
     "shell.execute_reply.started": "2025-01-10T09:30:35.154075Z"
    }
   },
   "outputs": [],
   "source": [
    "# Predict on test data\n",
    "predicted_co = model_co.predict(X_test_co)\n",
    "predicted_co = scaler_co.inverse_transform(predicted_co.reshape(-1, 1))\n",
    "y_test_co_actual = scaler_co.inverse_transform(y_test_co.reshape(-1, 1))\n",
    "\n",
    "# Plot CO(GT) Predictions\n",
    "plt.figure(figsize=(12, 6))\n",
    "plt.plot(y_test_co_actual, label='Actual CO(GT)')\n",
    "plt.plot(predicted_co, label='Predicted CO(GT)')\n",
    "plt.title('Actual vs Predicted CO(GT)')\n",
    "plt.legend()\n",
    "plt.show()"
   ]
  },
  {
   "cell_type": "code",
   "execution_count": null,
   "id": "b5f6be74-706e-4d3a-9298-d605da0af2c2",
   "metadata": {
    "execution": {
     "iopub.execute_input": "2025-01-10T09:30:35.869614Z",
     "iopub.status.busy": "2025-01-10T09:30:35.869169Z",
     "iopub.status.idle": "2025-01-10T09:30:36.653144Z",
     "shell.execute_reply": "2025-01-10T09:30:36.652260Z",
     "shell.execute_reply.started": "2025-01-10T09:30:35.869571Z"
    }
   },
   "outputs": [],
   "source": [
    "# Predict on test data\n",
    "predicted_no2 = model_no2.predict(X_test_no2)\n",
    "predicted_no2 = scaler_no2.inverse_transform(predicted_no2.reshape(-1, 1))\n",
    "y_test_no2_actual = scaler_no2.inverse_transform(y_test_no2.reshape(-1, 1))\n",
    "\n",
    "# Plot NO2(GT) Predictions\n",
    "plt.figure(figsize=(12, 6))\n",
    "plt.plot(y_test_no2_actual, label='Actual NO2(GT)')\n",
    "plt.plot(predicted_no2, label='Predicted NO2(GT)')\n",
    "plt.title('Actual vs Predicted NO2(GT)')\n",
    "plt.legend()\n",
    "plt.show()"
   ]
  },
  {
   "cell_type": "markdown",
   "id": "054b52b7-2ba9-453d-9bae-4bcc65a4ebca",
   "metadata": {},
   "source": [
    "<div style=\"background-color: #f9f9fc; color: #333366; border-radius: 12px; margin: 20px auto; padding: 20px; border: 2px solid #ff4c4c; max-width: 1000px; font-family: Arial, sans-serif; line-height: 1.6;\">\n",
    "  <h2 style=\"text-align: center; color: #333366;\">Build GRU models for predicting CO(GT) and NO2(GT)</h2>"
   ]
  },
  {
   "cell_type": "code",
   "execution_count": null,
   "id": "d2c552fe-6573-4aa7-9ee0-d7d0920d0a4a",
   "metadata": {
    "execution": {
     "iopub.execute_input": "2025-01-10T09:30:36.654504Z",
     "iopub.status.busy": "2025-01-10T09:30:36.654112Z",
     "iopub.status.idle": "2025-01-10T09:30:36.667099Z",
     "shell.execute_reply": "2025-01-10T09:30:36.666248Z",
     "shell.execute_reply.started": "2025-01-10T09:30:36.654466Z"
    }
   },
   "outputs": [],
   "source": [
    "# Select columns for CO(GT) and NO2(GT)\n",
    "data_co = df[['CO(GT)']].dropna()\n",
    "data_no2 = df[['NO2(GT)']].dropna()\n",
    "\n",
    "# Normalize the data\n",
    "scaler_co = MinMaxScaler(feature_range=(0, 1))\n",
    "scaled_co = scaler_co.fit_transform(data_co)\n",
    "\n",
    "scaler_no2 = MinMaxScaler(feature_range=(0, 1))\n",
    "scaled_no2 = scaler_no2.fit_transform(data_no2)"
   ]
  },
  {
   "cell_type": "code",
   "execution_count": null,
   "id": "37c8a751-beb7-43df-9af2-4040320f854d",
   "metadata": {
    "execution": {
     "iopub.execute_input": "2025-01-10T09:30:36.668301Z",
     "iopub.status.busy": "2025-01-10T09:30:36.667976Z",
     "iopub.status.idle": "2025-01-10T09:30:36.705106Z",
     "shell.execute_reply": "2025-01-10T09:30:36.704416Z",
     "shell.execute_reply.started": "2025-01-10T09:30:36.668268Z"
    }
   },
   "outputs": [],
   "source": [
    "# Function to create sequences for GRU\n",
    "def create_sequences(data, time_steps=30):\n",
    "    X, y = [], []\n",
    "    for i in range(len(data) - time_steps):\n",
    "        X.append(data[i:i+time_steps, 0])\n",
    "        y.append(data[i+time_steps, 0])\n",
    "    return np.array(X), np.array(y)\n",
    "\n",
    "# Create sequences for CO(GT)\n",
    "time_steps = 30\n",
    "X_co, y_co = create_sequences(scaled_co, time_steps)\n",
    "\n",
    "# Create sequences for NO2(GT)\n",
    "X_no2, y_no2 = create_sequences(scaled_no2, time_steps)\n",
    "\n",
    "# Reshape inputs for GRU\n",
    "X_co = X_co.reshape((X_co.shape[0], X_co.shape[1], 1))\n",
    "X_no2 = X_no2.reshape((X_no2.shape[0], X_no2.shape[1], 1))"
   ]
  },
  {
   "cell_type": "code",
   "execution_count": null,
   "id": "1b9b7012-59a4-4857-84ab-22b279f2155d",
   "metadata": {
    "execution": {
     "iopub.execute_input": "2025-01-10T09:30:36.705964Z",
     "iopub.status.busy": "2025-01-10T09:30:36.705771Z",
     "iopub.status.idle": "2025-01-10T09:30:36.710189Z",
     "shell.execute_reply": "2025-01-10T09:30:36.709373Z",
     "shell.execute_reply.started": "2025-01-10T09:30:36.705946Z"
    }
   },
   "outputs": [],
   "source": [
    "# Split data for CO(GT)\n",
    "train_size_co = int(len(X_co) * 0.8)\n",
    "X_train_co, X_test_co = X_co[:train_size_co], X_co[train_size_co:]\n",
    "y_train_co, y_test_co = y_co[:train_size_co], y_co[train_size_co:]\n",
    "\n",
    "# Split data for NO2(GT)\n",
    "train_size_no2 = int(len(X_no2) * 0.8)\n",
    "X_train_no2, X_test_no2 = X_no2[:train_size_no2], X_no2[train_size_no2:]\n",
    "y_train_no2, y_test_no2 = y_no2[:train_size_no2], y_no2[train_size_no2:]"
   ]
  },
  {
   "cell_type": "code",
   "execution_count": null,
   "id": "955b6a9d-5c6d-4562-9203-a4cfe6d529c5",
   "metadata": {
    "execution": {
     "iopub.execute_input": "2025-01-10T09:30:36.711114Z",
     "iopub.status.busy": "2025-01-10T09:30:36.710892Z",
     "iopub.status.idle": "2025-01-10T09:31:06.100685Z",
     "shell.execute_reply": "2025-01-10T09:31:06.099944Z",
     "shell.execute_reply.started": "2025-01-10T09:30:36.711093Z"
    }
   },
   "outputs": [],
   "source": [
    "# GRU model for CO(GT)\n",
    "model_co = Sequential([\n",
    "    GRU(50, return_sequences=True, input_shape=(time_steps, 1)),\n",
    "    GRU(50),\n",
    "    Dense(1)\n",
    "])\n",
    "\n",
    "model_co.compile(optimizer='adam', loss='mse')\n",
    "# Train the model\n",
    "history_co = model_co.fit(X_train_co, y_train_co, epochs=20, batch_size=32, validation_data=(X_test_co, y_test_co), verbose=1)"
   ]
  },
  {
   "cell_type": "code",
   "execution_count": null,
   "id": "146ed24f-59d0-4655-8432-d39954e96be4",
   "metadata": {
    "execution": {
     "iopub.execute_input": "2025-01-10T09:31:06.102203Z",
     "iopub.status.busy": "2025-01-10T09:31:06.101848Z",
     "iopub.status.idle": "2025-01-10T09:31:35.487725Z",
     "shell.execute_reply": "2025-01-10T09:31:35.486975Z",
     "shell.execute_reply.started": "2025-01-10T09:31:06.102168Z"
    }
   },
   "outputs": [],
   "source": [
    "# GRU model for NO2(GT)\n",
    "model_no2 = Sequential([\n",
    "    GRU(50, return_sequences=True, input_shape=(time_steps, 1)),\n",
    "    GRU(50),\n",
    "    Dense(1)\n",
    "])\n",
    "\n",
    "model_no2.compile(optimizer='adam', loss='mse')\n",
    "# Train the model\n",
    "history_no2 = model_no2.fit(X_train_no2, y_train_no2, epochs=20, batch_size=32, validation_data=(X_test_no2, y_test_no2), verbose=1)"
   ]
  },
  {
   "cell_type": "code",
   "execution_count": null,
   "id": "1aecd6f8-936c-4091-b141-5f7e5de39248",
   "metadata": {
    "execution": {
     "iopub.execute_input": "2025-01-10T09:31:35.489172Z",
     "iopub.status.busy": "2025-01-10T09:31:35.488856Z",
     "iopub.status.idle": "2025-01-10T09:31:35.768949Z",
     "shell.execute_reply": "2025-01-10T09:31:35.768069Z",
     "shell.execute_reply.started": "2025-01-10T09:31:35.489147Z"
    }
   },
   "outputs": [],
   "source": [
    "plt.figure(figsize=(12, 6))\n",
    "plt.plot(history_co.history['loss'], label='Training Loss - CO(GT)')\n",
    "plt.plot(history_co.history['val_loss'], label='Validation Loss - CO(GT)')\n",
    "plt.title('Training and Validation Loss for CO(GT)')\n",
    "plt.xlabel('Epochs')\n",
    "plt.ylabel('Loss')\n",
    "plt.legend()\n",
    "plt.show()"
   ]
  },
  {
   "cell_type": "code",
   "execution_count": null,
   "id": "27a83beb-fb43-4bd3-8fd7-e15028de1728",
   "metadata": {
    "execution": {
     "iopub.execute_input": "2025-01-10T09:31:35.770263Z",
     "iopub.status.busy": "2025-01-10T09:31:35.769920Z",
     "iopub.status.idle": "2025-01-10T09:31:36.044969Z",
     "shell.execute_reply": "2025-01-10T09:31:36.044228Z",
     "shell.execute_reply.started": "2025-01-10T09:31:35.770228Z"
    }
   },
   "outputs": [],
   "source": [
    "plt.figure(figsize=(12, 6))\n",
    "plt.plot(history_no2.history['loss'], label='Training Loss - NO2(GT)')\n",
    "plt.plot(history_no2.history['val_loss'], label='Validation Loss - NO2(GT)')\n",
    "plt.title('Training and Validation Loss for NO2(GT)')\n",
    "plt.xlabel('Epochs')\n",
    "plt.ylabel('Loss')\n",
    "plt.legend()\n",
    "plt.show()"
   ]
  },
  {
   "cell_type": "markdown",
   "id": "6c9e7137-de0c-4b11-b589-8ca3decf93d2",
   "metadata": {},
   "source": [
    "### For CO(GT)"
   ]
  },
  {
   "cell_type": "code",
   "execution_count": null,
   "id": "205abbe1-b8b5-44a1-b218-8d29ec72b5ee",
   "metadata": {
    "execution": {
     "iopub.execute_input": "2025-01-10T09:31:36.046207Z",
     "iopub.status.busy": "2025-01-10T09:31:36.045873Z",
     "iopub.status.idle": "2025-01-10T09:31:36.696113Z",
     "shell.execute_reply": "2025-01-10T09:31:36.695270Z",
     "shell.execute_reply.started": "2025-01-10T09:31:36.046169Z"
    }
   },
   "outputs": [],
   "source": [
    "# Predict on test data\n",
    "predicted_co = model_co.predict(X_test_co)\n",
    "predicted_co = scaler_co.inverse_transform(predicted_co.reshape(-1, 1))\n",
    "y_test_co_actual = scaler_co.inverse_transform(y_test_co.reshape(-1, 1))\n",
    "\n",
    "# Plot CO(GT) Predictions\n",
    "plt.figure(figsize=(12, 6))\n",
    "plt.plot(y_test_co_actual, label='Actual CO(GT)')\n",
    "plt.plot(predicted_co, label='Predicted CO(GT)')\n",
    "plt.title('Actual vs Predicted CO(GT)')\n",
    "plt.legend()\n",
    "plt.show()"
   ]
  },
  {
   "cell_type": "markdown",
   "id": "e65206b6-0839-4cb5-af2f-803007de8a51",
   "metadata": {},
   "source": [
    "### For NO2(GT)"
   ]
  },
  {
   "cell_type": "code",
   "execution_count": null,
   "id": "1178ff52-1b39-4d91-95dd-f6d07bccbdcf",
   "metadata": {
    "execution": {
     "iopub.execute_input": "2025-01-10T09:31:36.697121Z",
     "iopub.status.busy": "2025-01-10T09:31:36.696868Z",
     "iopub.status.idle": "2025-01-10T09:31:37.457413Z",
     "shell.execute_reply": "2025-01-10T09:31:37.456543Z",
     "shell.execute_reply.started": "2025-01-10T09:31:36.697099Z"
    }
   },
   "outputs": [],
   "source": [
    "# Predict on test data\n",
    "predicted_no2 = model_no2.predict(X_test_no2)\n",
    "predicted_no2 = scaler_no2.inverse_transform(predicted_no2.reshape(-1, 1))\n",
    "y_test_no2_actual = scaler_no2.inverse_transform(y_test_no2.reshape(-1, 1))\n",
    "\n",
    "# Plot NO2(GT) Predictions\n",
    "plt.figure(figsize=(12, 6))\n",
    "plt.plot(y_test_no2_actual, label='Actual NO2(GT)')\n",
    "plt.plot(predicted_no2, label='Predicted NO2(GT)')\n",
    "plt.title('Actual vs Predicted NO2(GT)')\n",
    "plt.legend()\n",
    "plt.show()"
   ]
  },
  {
   "cell_type": "code",
   "execution_count": null,
   "id": "85917f95-6837-4327-8cc1-c5e6462dc32e",
   "metadata": {
    "execution": {
     "iopub.execute_input": "2025-01-10T09:40:23.025259Z",
     "iopub.status.busy": "2025-01-10T09:40:23.024868Z",
     "iopub.status.idle": "2025-01-10T09:40:23.030370Z",
     "shell.execute_reply": "2025-01-10T09:40:23.029434Z",
     "shell.execute_reply.started": "2025-01-10T09:40:23.025231Z"
    }
   },
   "outputs": [],
   "source": [
    "print(df.columns)"
   ]
  },
  {
   "cell_type": "code",
   "execution_count": null,
   "id": "378b2667-3685-46d9-9603-10854ba90bb3",
   "metadata": {
    "execution": {
     "iopub.execute_input": "2025-01-10T09:40:46.035651Z",
     "iopub.status.busy": "2025-01-10T09:40:46.035334Z",
     "iopub.status.idle": "2025-01-10T09:40:46.476794Z",
     "shell.execute_reply": "2025-01-10T09:40:46.475010Z",
     "shell.execute_reply.started": "2025-01-10T09:40:46.035626Z"
    }
   },
   "outputs": [],
   "source": [
    "from statsmodels.tsa.stattools import adfuller\n",
    "\n",
    "# Check for stationarity in the 'CO(GT)' column\n",
    "result = adfuller(df['CO(GT)'])\n",
    "print(\"ADF Statistic:\", result[0])\n",
    "print(\"p-value:\", result[1])\n",
    "\n",
    "if result[1] > 0.05:\n",
    "    print(\"The series is not stationary. Differencing will be applied.\")\n",
    "    df['CO(GT)_Diff'] = df['CO(GT)'].diff().dropna()\n",
    "else:\n",
    "    print(\"The series is stationary. Proceeding without differencing.\")\n"
   ]
  },
  {
   "cell_type": "code",
   "execution_count": null,
   "id": "b2db7aa5-8d86-4912-bb92-553d09af986e",
   "metadata": {
    "execution": {
     "iopub.execute_input": "2025-01-10T09:43:11.700300Z",
     "iopub.status.busy": "2025-01-10T09:43:11.699927Z",
     "iopub.status.idle": "2025-01-10T09:43:12.435132Z",
     "shell.execute_reply": "2025-01-10T09:43:12.434272Z",
     "shell.execute_reply.started": "2025-01-10T09:43:11.700271Z"
    }
   },
   "outputs": [],
   "source": [
    "from statsmodels.tsa.arima.model import ARIMA\n",
    "\n",
    "# Fit the ARIMA model\n",
    "model = ARIMA(df['CO(GT)'], order=(1, 1, 1))  # Replace with the correct column name\n",
    "arima_fitted = model.fit()\n",
    "\n",
    "# Forecast future values\n",
    "forecast_steps = 20\n",
    "forecast = arima_fitted.forecast(steps=forecast_steps)\n",
    "\n",
    "# Print the forecast\n",
    "print(\"ARIMA Forecast:\\n\", forecast)"
   ]
  },
  {
   "cell_type": "code",
   "execution_count": null,
   "id": "0a538de9-6ae6-482c-aa5d-473f244df8d7",
   "metadata": {
    "execution": {
     "iopub.execute_input": "2025-01-10T09:44:33.237690Z",
     "iopub.status.busy": "2025-01-10T09:44:33.237341Z",
     "iopub.status.idle": "2025-01-10T09:44:33.548163Z",
     "shell.execute_reply": "2025-01-10T09:44:33.547309Z",
     "shell.execute_reply.started": "2025-01-10T09:44:33.237659Z"
    }
   },
   "outputs": [],
   "source": [
    "# Plot the forecast\n",
    "import matplotlib.pyplot as plt\n",
    "\n",
    "# Replace 'CO(GT)' with your actual column name\n",
    "plt.figure(figsize=(12, 6))\n",
    "plt.plot(df['CO(GT)'], label='Observed')  # Observed data\n",
    "plt.plot(range(len(df), len(df) + forecast_steps), forecast, label='Forecast', color='red')  # Forecasted data\n",
    "plt.legend()\n",
    "plt.title('ARIMA Forecast for CO(GT)')\n",
    "plt.show()"
   ]
  },
  {
   "cell_type": "code",
   "execution_count": null,
   "id": "a132837c-fed9-49b1-932f-8dc799caae4e",
   "metadata": {
    "execution": {
     "iopub.execute_input": "2025-01-10T09:45:35.902136Z",
     "iopub.status.busy": "2025-01-10T09:45:35.901743Z",
     "iopub.status.idle": "2025-01-10T09:45:35.910549Z",
     "shell.execute_reply": "2025-01-10T09:45:35.909730Z",
     "shell.execute_reply.started": "2025-01-10T09:45:35.902104Z"
    }
   },
   "outputs": [],
   "source": [
    "# Assign co_series to a column in the DataFrame\n",
    "co_series = df['CO(GT)']  # Replace 'CO(GT)' with your desired column name\n",
    "\n",
    "# Check the first few rows and total number of data points\n",
    "print(co_series.head())  # First few rows\n",
    "print(len(co_series))    # Total number of data points\n",
    "\n",
    "# Check for missing values and handle them\n",
    "print(\"Number of missing values:\", co_series.isnull().sum())  # Check NaNs\n",
    "co_series = co_series.dropna()  # Drop NaN values\n",
    "\n",
    "# Verify the updated series\n",
    "print(\"Number of data points after dropping NaNs:\", len(co_series))"
   ]
  },
  {
   "cell_type": "code",
   "execution_count": null,
   "id": "1d149397-ecab-4a6a-834b-e0d46978036f",
   "metadata": {
    "execution": {
     "iopub.execute_input": "2025-01-10T09:45:42.274947Z",
     "iopub.status.busy": "2025-01-10T09:45:42.274651Z",
     "iopub.status.idle": "2025-01-10T09:45:42.281736Z",
     "shell.execute_reply": "2025-01-10T09:45:42.281042Z",
     "shell.execute_reply.started": "2025-01-10T09:45:42.274923Z"
    }
   },
   "outputs": [],
   "source": [
    "co_series_diff = co_series.diff().dropna()\n",
    "print(co_series_diff.head())  # Ensure it has data\n",
    "print(len(co_series_diff))  # Check the number of data points"
   ]
  },
  {
   "cell_type": "markdown",
   "id": "156d3291-5c3b-491d-8a5f-afb53ee3ff15",
   "metadata": {},
   "source": [
    "#### Machine Learning Models (Lag Features)"
   ]
  },
  {
   "cell_type": "code",
   "execution_count": null,
   "id": "e9a33fab-aa8d-4eee-9627-6cee62c046a4",
   "metadata": {
    "execution": {
     "iopub.execute_input": "2025-01-10T09:45:55.923587Z",
     "iopub.status.busy": "2025-01-10T09:45:55.923260Z",
     "iopub.status.idle": "2025-01-10T09:45:56.259030Z",
     "shell.execute_reply": "2025-01-10T09:45:56.258107Z",
     "shell.execute_reply.started": "2025-01-10T09:45:55.923563Z"
    }
   },
   "outputs": [],
   "source": [
    "import numpy as np\n",
    "import pandas as pd\n",
    "from sklearn.ensemble import RandomForestRegressor\n",
    "from sklearn.model_selection import train_test_split\n",
    "from sklearn.metrics import mean_absolute_error, mean_squared_error, r2_score\n",
    "import matplotlib.pyplot as plt\n",
    "\n",
    "# Simulate or use your dataset\n",
    "timestamps = pd.date_range(start='2023-01-01', periods=100, freq='D')\n",
    "df = pd.DataFrame({'CO(GT)': np.random.rand(100) * 10}, index=timestamps)\n",
    "\n",
    "# Create lag features\n",
    "df['CO_lag1'] = df['CO(GT)'].shift(1)\n",
    "\n",
    "# Drop rows with NaN values\n",
    "ml_data = df.dropna().copy()\n",
    "\n",
    "# Ensure there is enough data\n",
    "if ml_data.empty or len(ml_data) < 5:\n",
    "    print(\"Not enough data points after creating lag features. Using simulated data for testing.\")\n",
    "    timestamps = pd.date_range(start='2023-01-01', periods=50, freq='D')\n",
    "    df = pd.DataFrame({'CO(GT)': np.random.rand(50) * 10}, index=timestamps)\n",
    "    df['CO_lag1'] = df['CO(GT)'].shift(1)\n",
    "    ml_data = df.dropna().copy()\n",
    "\n",
    "# Define feature matrix X and target variable y\n",
    "X = ml_data[['CO_lag1']]\n",
    "y = ml_data['CO(GT)']\n",
    "\n",
    "# Split the data into train and test sets\n",
    "X_train, X_test, y_train, y_test = train_test_split(X, y, test_size=0.2, random_state=42)\n",
    "\n",
    "# Train a Random Forest model\n",
    "rf_model = RandomForestRegressor(random_state=42)\n",
    "rf_model.fit(X_train, y_train)\n",
    "\n",
    "# Make predictions\n",
    "y_pred = rf_model.predict(X_test)\n",
    "\n",
    "# Evaluate the model\n",
    "mae = mean_absolute_error(y_test, y_pred)\n",
    "rmse = np.sqrt(mean_squared_error(y_test, y_pred))\n",
    "r2 = r2_score(y_test, y_pred)\n",
    "\n",
    "print(f\"Random Forest - MAE: {mae:.4f}, RMSE: {rmse:.4f}, R²: {r2:.4f}\")\n",
    "\n",
    "# Visualize actual vs predicted values\n",
    "plt.figure(figsize=(10, 6))\n",
    "plt.plot(y_test.values, label='Actual Values', color='blue')\n",
    "plt.plot(y_pred, label='Predicted Values', color='red')\n",
    "plt.title('Random Forest: Actual vs Predicted Values')\n",
    "plt.xlabel('Index')\n",
    "plt.ylabel('CO(GT)')\n",
    "plt.legend()\n",
    "plt.show()"
   ]
  },
  {
   "cell_type": "code",
   "execution_count": null,
   "id": "ac73d393-2dcd-432a-bedf-b05008ece4ca",
   "metadata": {},
   "outputs": [],
   "source": []
  },
  {
   "cell_type": "markdown",
   "id": "9c896d4f-efe9-493d-b5b7-d6677a560586",
   "metadata": {},
   "source": [
    "### Machine Learning Models"
   ]
  },
  {
   "cell_type": "markdown",
   "id": "5446090d-48da-4b93-8033-dcd124f0f846",
   "metadata": {},
   "source": [
    "<div style=\"background-color: #f9f9fc; color: #333366; border-radius: 12px; margin: 20px auto; padding: 20px; border: 2px solid #ff4c4c; max-width: 1000px; font-family: Arial, sans-serif; line-height: 1.6;\">\n",
    "  <h2 style=\"text-align: center; color: #333366;\">5. Model Evaluation</h2>\n",
    "\n",
    "  ---\n",
    "- Use appropriate metrics for forecasting:\n",
    "  - Mean Absolute Error (MAE)\n",
    "  - Root Mean Squared Error (RMSE)\n",
    "  - Mean Absolute Percentage Error (MAPE)\n",
    "- Plot actual vs. predicted values to visualize performance."
   ]
  },
  {
   "cell_type": "code",
   "execution_count": null,
   "id": "7574ce26-22d8-4a78-abfd-576daa89b43a",
   "metadata": {
    "execution": {
     "iopub.execute_input": "2025-01-10T09:49:51.369247Z",
     "iopub.status.busy": "2025-01-10T09:49:51.368718Z",
     "iopub.status.idle": "2025-01-10T09:49:51.801901Z",
     "shell.execute_reply": "2025-01-10T09:49:51.801215Z",
     "shell.execute_reply.started": "2025-01-10T09:49:51.369200Z"
    }
   },
   "outputs": [],
   "source": [
    "from sklearn.metrics import mean_squared_error, mean_absolute_error, r2_score\n",
    "import numpy as np\n",
    "\n",
    "# Calculate predictions for CO(GT)\n",
    "y_pred_co = model_co.predict(X_test_co)\n",
    "\n",
    "# Convert predictions and actual values back to original scale if scaled\n",
    "# If data was scaled with MinMaxScaler, use scaler.inverse_transform\n",
    "y_pred_co_original = y_pred_co\n",
    "y_test_co_original = y_test_co\n",
    "\n",
    "# Metrics for CO(GT)\n",
    "mae_co = mean_absolute_error(y_test_co_original, y_pred_co_original)\n",
    "rmse_co = np.sqrt(mean_squared_error(y_test_co_original, y_pred_co_original))\n",
    "r2_co = r2_score(y_test_co_original, y_pred_co_original)\n",
    "mape_co = np.mean(np.abs((y_test_co_original - y_pred_co_original) / y_test_co_original)) * 100\n",
    "\n",
    "print(\"CO(GT) - Metrics\")\n",
    "print(f\"MAE: {mae_co}\")\n",
    "print(f\"RMSE: {rmse_co}\")\n",
    "print(f\"R²: {r2_co}\")\n",
    "print(f\"MAPE: {mape_co}%\")\n",
    "\n",
    "# Calculate predictions for NO2(GT)\n",
    "y_pred_no2 = model_no2.predict(X_test_no2)\n",
    "\n",
    "# Convert predictions and actual values back to original scale if scaled\n",
    "# If data was scaled with MinMaxScaler, use scaler.inverse_transform\n",
    "y_pred_no2_original = y_pred_no2\n",
    "y_test_no2_original = y_test_no2\n",
    "\n",
    "# Metrics for NO2(GT)\n",
    "mae_no2 = mean_absolute_error(y_test_no2_original, y_pred_no2_original)\n",
    "rmse_no2 = np.sqrt(mean_squared_error(y_test_no2_original, y_pred_no2_original))\n",
    "r2_no2 = r2_score(y_test_no2_original, y_pred_no2_original)\n",
    "mape_no2 = np.mean(np.abs((y_test_no2_original - y_pred_no2_original) / y_test_no2_original)) * 100\n",
    "\n",
    "print(\"\\nNO2(GT) - Metrics\")\n",
    "print(f\"MAE: {mae_no2}\")\n",
    "print(f\"RMSE: {rmse_no2}\")\n",
    "print(f\"R²: {r2_no2}\")\n",
    "print(f\"MAPE: {mape_no2}%\")"
   ]
  },
  {
   "cell_type": "markdown",
   "id": "558adc29-92dd-44b5-b062-01e2c0508504",
   "metadata": {},
   "source": [
    "<div style=\"background-color: #f9f9fc; color: #333366; border-radius: 12px; margin: 20px auto; padding: 20px; border: 2px solid #ff4c4c; max-width: 1000px; font-family: Arial, sans-serif; line-height: 1.6;\">\n",
    "  <h2 style=\"text-align: center; color: #333366;\">Plot Actual vs. Predicted for CO(GT)>"
   ]
  },
  {
   "cell_type": "code",
   "execution_count": null,
   "id": "f28f6071-e1ee-43d4-8b22-4b2ced83edb6",
   "metadata": {
    "execution": {
     "iopub.execute_input": "2025-01-10T10:09:03.274415Z",
     "iopub.status.busy": "2025-01-10T10:09:03.274008Z",
     "iopub.status.idle": "2025-01-10T10:09:03.620106Z",
     "shell.execute_reply": "2025-01-10T10:09:03.619126Z",
     "shell.execute_reply.started": "2025-01-10T10:09:03.274382Z"
    }
   },
   "outputs": [],
   "source": [
    "import matplotlib.pyplot as plt\n",
    "\n",
    "# Plot Actual vs. Predicted for CO(GT)\n",
    "plt.figure(figsize=(10, 6))\n",
    "plt.plot(y_test_co_original, label=\"Actual Values\", color=\"blue\")\n",
    "plt.plot(y_pred_co_original, label=\"Predicted Values\", color=\"red\")\n",
    "plt.title(\"Actual vs Predicted Values for CO(GT)\")\n",
    "plt.xlabel(\"Time Steps\")\n",
    "plt.ylabel(\"CO(GT) Values\")\n",
    "plt.legend()\n",
    "plt.grid()\n",
    "plt.show()"
   ]
  },
  {
   "cell_type": "markdown",
   "id": "ee685ab4-99cd-40a1-98ef-6dd7b926c23b",
   "metadata": {},
   "source": [
    "# Plot Actual vs. Predicted for NO2(GT)"
   ]
  },
  {
   "cell_type": "code",
   "execution_count": null,
   "id": "fac9656c-d5d5-4ed3-bb4a-d4f6525f16b4",
   "metadata": {
    "execution": {
     "iopub.execute_input": "2025-01-10T10:09:30.617111Z",
     "iopub.status.busy": "2025-01-10T10:09:30.616726Z",
     "iopub.status.idle": "2025-01-10T10:09:30.890758Z",
     "shell.execute_reply": "2025-01-10T10:09:30.889871Z",
     "shell.execute_reply.started": "2025-01-10T10:09:30.617077Z"
    }
   },
   "outputs": [],
   "source": [
    "# Plot Actual vs. Predicted for NO2(GT)\n",
    "plt.figure(figsize=(10, 6))\n",
    "plt.plot(y_test_no2_original, label=\"Actual Values\", color=\"blue\")\n",
    "plt.plot(y_pred_no2_original, label=\"Predicted Values\", color=\"red\")\n",
    "plt.title(\"Actual vs Predicted Values for NO2(GT)\")\n",
    "plt.xlabel(\"Time Steps\")\n",
    "plt.ylabel(\"NO2(GT) Values\")\n",
    "plt.legend()\n",
    "plt.grid()\n",
    "plt.show()"
   ]
  },
  {
   "cell_type": "markdown",
   "id": "03cab752-bc39-4a33-b1c2-c89ab8cb32b6",
   "metadata": {},
   "source": [
    "# Both plot"
   ]
  },
  {
   "cell_type": "code",
   "execution_count": null,
   "id": "1603a61b-78c6-477b-8e45-2551ec90b26a",
   "metadata": {
    "execution": {
     "iopub.execute_input": "2025-01-10T10:09:50.519778Z",
     "iopub.status.busy": "2025-01-10T10:09:50.519417Z",
     "iopub.status.idle": "2025-01-10T10:09:51.248026Z",
     "shell.execute_reply": "2025-01-10T10:09:51.247090Z",
     "shell.execute_reply.started": "2025-01-10T10:09:50.519744Z"
    }
   },
   "outputs": [],
   "source": [
    "fig, axs = plt.subplots(2, 1, figsize=(12, 10))\n",
    "\n",
    "# Plot for CO(GT)\n",
    "axs[0].plot(y_test_co_original, label=\"Actual Values (CO)\", color=\"blue\")\n",
    "axs[0].plot(y_pred_co_original, label=\"Predicted Values (CO)\", color=\"red\")\n",
    "axs[0].set_title(\"Actual vs Predicted Values for CO(GT)\")\n",
    "axs[0].set_xlabel(\"Time Steps\")\n",
    "axs[0].set_ylabel(\"CO(GT) Values\")\n",
    "axs[0].legend()\n",
    "axs[0].grid()\n",
    "\n",
    "# Plot for NO2(GT)\n",
    "axs[1].plot(y_test_no2_original, label=\"Actual Values (NO2)\", color=\"blue\")\n",
    "axs[1].plot(y_pred_no2_original, label=\"Predicted Values (NO2)\", color=\"red\")\n",
    "axs[1].set_title(\"Actual vs Predicted Values for NO2(GT)\")\n",
    "axs[1].set_xlabel(\"Time Steps\")\n",
    "axs[1].set_ylabel(\"NO2(GT) Values\")\n",
    "axs[1].legend()\n",
    "axs[1].grid()\n",
    "\n",
    "# Adjust layout\n",
    "plt.tight_layout()\n",
    "plt.show()"
   ]
  },
  {
   "cell_type": "markdown",
   "id": "ebe15f69-3907-4d01-a763-dc2d56344c40",
   "metadata": {},
   "source": [
    "<div style=\"background-color: #f9f9fc; color: #333366; border-radius: 12px; margin: 20px auto; padding: 20px; border: 2px solid #ff4c4c; max-width: 1000px; font-family: Arial, sans-serif; line-height: 1.6;\">\n",
    "  <h2 style=\"text-align: center; color: #333366;\">6. Visualization and Insights</h2>\n",
    "\n",
    "  ---\n",
    "- Generate forecasts for future dates and visualize the trends.\n",
    "- Highlight seasonal patterns, peak times, and periods of concern.\n",
    "- Provide actionable recommendations based on predicted trends."
   ]
  },
  {
   "cell_type": "code",
   "execution_count": null,
   "id": "27e16d61",
   "metadata": {
    "execution": {
     "iopub.execute_input": "2025-01-10T10:11:27.291188Z",
     "iopub.status.busy": "2025-01-10T10:11:27.290794Z",
     "iopub.status.idle": "2025-01-10T10:11:28.020318Z",
     "shell.execute_reply": "2025-01-10T10:11:28.019485Z",
     "shell.execute_reply.started": "2025-01-10T10:11:27.291156Z"
    }
   },
   "outputs": [],
   "source": [
    "# Generate future forecasts\n",
    "future_steps = 50  # Number of steps to forecast into the future\n",
    "future_forecast_co = model_co.predict(X_test_co[-future_steps:])\n",
    "future_forecast_no2 = model_no2.predict(X_test_no2[-future_steps:])\n",
    "\n",
    "# Visualize forecasts\n",
    "plt.figure(figsize=(12, 6))\n",
    "plt.plot(range(len(y_test_co_original)), y_test_co_original, label='Actual Values (CO)', color='blue')\n",
    "plt.plot(range(len(y_test_co_original), len(y_test_co_original) + future_steps),\n",
    "         future_forecast_co, label='Forecasted Values (CO)', color='red')\n",
    "plt.title('Future Forecast for CO(GT)')\n",
    "plt.xlabel('Time Steps')\n",
    "plt.ylabel('CO(GT) Values')\n",
    "plt.legend()\n",
    "plt.grid()\n",
    "plt.show()\n",
    "\n",
    "plt.figure(figsize=(12, 6))\n",
    "plt.plot(range(len(y_test_no2_original)), y_test_no2_original, label='Actual Values (NO2)', color='blue')\n",
    "plt.plot(range(len(y_test_no2_original), len(y_test_no2_original) + future_steps),\n",
    "         future_forecast_no2, label='Forecasted Values (NO2)', color='red')\n",
    "plt.title('Future Forecast for NO2(GT)')\n",
    "plt.xlabel('Time Steps')\n",
    "plt.ylabel('NO2(GT) Values')\n",
    "plt.legend()\n",
    "plt.grid()\n",
    "plt.show()"
   ]
  },
  {
   "cell_type": "code",
   "execution_count": null,
   "id": "d61ec495-d250-402a-a581-ca93c4b5efb8",
   "metadata": {
    "execution": {
     "iopub.execute_input": "2025-01-10T10:38:42.472972Z",
     "iopub.status.busy": "2025-01-10T10:38:42.472616Z",
     "iopub.status.idle": "2025-01-10T10:38:42.725783Z",
     "shell.execute_reply": "2025-01-10T10:38:42.724947Z",
     "shell.execute_reply.started": "2025-01-10T10:38:42.472942Z"
    }
   },
   "outputs": [],
   "source": [
    "# Check available columns\n",
    "print(\"Available columns in the DataFrame:\")\n",
    "print(df.columns)\n",
    "\n",
    "# Dynamically include 'NO2(GT)' only if it exists\n",
    "columns_to_analyze = ['CO(GT)']\n",
    "if 'NO2(GT)' in df.columns:\n",
    "    columns_to_analyze.append('NO2(GT)')\n",
    "\n",
    "# Group by hour\n",
    "hourly_avg = df.groupby(df.index.hour)[columns_to_analyze].mean()\n",
    "\n",
    "# Plot hourly patterns\n",
    "plt.figure(figsize=(12, 6))\n",
    "for column in columns_to_analyze:\n",
    "    plt.plot(hourly_avg.index, hourly_avg[column], label=column, marker='o')\n",
    "\n",
    "plt.title('Hourly Seasonal Patterns')\n",
    "plt.xlabel('Hour of Day')\n",
    "plt.ylabel('Average Concentration')\n",
    "plt.legend()\n",
    "plt.grid()\n",
    "plt.show()"
   ]
  },
  {
   "cell_type": "code",
   "execution_count": null,
   "id": "18ca70bc",
   "metadata": {
    "execution": {
     "iopub.execute_input": "2025-01-10T10:33:31.753150Z",
     "iopub.status.busy": "2025-01-10T10:33:31.752740Z",
     "iopub.status.idle": "2025-01-10T10:33:32.012937Z",
     "shell.execute_reply": "2025-01-10T10:33:32.012269Z",
     "shell.execute_reply.started": "2025-01-10T10:33:31.753117Z"
    }
   },
   "outputs": [],
   "source": [
    "import matplotlib.pyplot as plt\n",
    "\n",
    "# Check available column names\n",
    "print(\"Available columns in the DataFrame:\")\n",
    "print(df.columns)\n",
    "\n",
    "# Verify if 'NO2(GT)' exists in the DataFrame\n",
    "if 'NO2(GT)' not in df.columns:\n",
    "    print(\"Column 'NO2(GT)' not found. Please check the column name.\")\n",
    "    # Use 'CO(GT)' only if 'NO2(GT)' is missing\n",
    "    hourly_avg = df.groupby(df.index.hour)[['CO(GT)']].mean()\n",
    "    \n",
    "    # Plot for 'CO(GT)' only\n",
    "    plt.figure(figsize=(12, 6))\n",
    "    plt.plot(hourly_avg.index, hourly_avg['CO(GT)'], label='CO(GT)', marker='o')\n",
    "    plt.title('Seasonal Patterns: Hourly Averages for CO(GT)')\n",
    "    plt.xlabel('Hour of the Day')\n",
    "    plt.ylabel('Average Concentration')\n",
    "    plt.legend()\n",
    "    plt.grid()\n",
    "    plt.show()\n",
    "else:\n",
    "    # Proceed if 'NO2(GT)' exists\n",
    "    hourly_avg = df.groupby(df.index.hour)[['CO(GT)', 'NO2(GT)']].mean()\n",
    "\n",
    "    # Plot for both 'CO(GT)' and 'NO2(GT)'\n",
    "    plt.figure(figsize=(12, 6))\n",
    "    plt.plot(hourly_avg.index, hourly_avg['CO(GT)'], label='CO(GT)', marker='o', color='blue')\n",
    "    plt.plot(hourly_avg.index, hourly_avg['NO2(GT)'], label='NO2(GT)', marker='o', color='green')\n",
    "    plt.title('Seasonal Patterns: Hourly Averages')\n",
    "    plt.xlabel('Hour of the Day')\n",
    "    plt.ylabel('Average Concentration')\n",
    "    plt.legend()\n",
    "    plt.grid()\n",
    "    plt.show()"
   ]
  },
  {
   "cell_type": "markdown",
   "id": "77e82a64-3f2d-4747-8e55-09ea48f40c99",
   "metadata": {},
   "source": [
    "<div style=\"background-color: #f9f9fc; color: #333366; border-radius: 12px; margin: 20px auto; padding: 20px; border: 2px solid #ff4c4c; max-width: 1000px; font-family: Arial, sans-serif; line-height: 1.6;\">\n",
    "  <h2 style=\"text-align: center; color: #333366;\">7. Provide Actionable Recommendations Based on Predicted Trends</h2>\n",
    "\n",
    "  ---\n",
    "\n",
    "#### Steps:\n",
    "- Based on forecasted trends and seasonal patterns, suggest actionable steps.\n",
    "- Recommendations could include:\n",
    "  - **Policy-level actions**: Stricter emissions control during peak times.\n",
    "  - **Public advisories**: Alerts for high-pollution periods.\n",
    "  - **Infrastructure planning**: Adjusting traffic or industry schedules.\n",
    "\n",
    "---\n",
    "\n",
    "#### Example Recommendations:\n",
    "\n",
    "##### **For Policymakers:**\n",
    "- Implement traffic restrictions during peak pollution hours to reduce **CO(GT)** levels.\n",
    "- Strengthen industrial emissions regulations during winter months to control **NO2(GT)**.\n",
    "\n",
    "##### **For the Public:**\n",
    "- Avoid outdoor activities during peak pollution hours.\n",
    "- Use masks or air purifiers in high-pollution periods.\n",
    "\n",
    "##### **For City Planners:**\n",
    "- Increase green spaces in high-pollution areas.\n",
    "- Optimize traffic flow during peak times to reduce congestion."
   ]
  },
  {
   "cell_type": "code",
   "execution_count": null,
   "id": "308315df-fae6-4d21-8ad0-815a6d0a964a",
   "metadata": {},
   "outputs": [],
   "source": []
  }
 ],
 "metadata": {
  "kaggle": {
   "accelerator": "gpu",
   "dataSources": [],
   "dockerImageVersionId": 30823,
   "isGpuEnabled": true,
   "isInternetEnabled": true,
   "language": "python",
   "sourceType": "notebook"
  },
  "kernelspec": {
   "display_name": "Python 3",
   "language": "python",
   "name": "python3"
  },
  "language_info": {
   "codemirror_mode": {
    "name": "ipython",
    "version": 3
   },
   "file_extension": ".py",
   "mimetype": "text/x-python",
   "name": "python",
   "nbconvert_exporter": "python",
   "pygments_lexer": "ipython3",
   "version": "3.12.1"
  }
 },
 "nbformat": 4,
 "nbformat_minor": 5
}
